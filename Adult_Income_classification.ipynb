{
  "cells": [
    {
      "cell_type": "markdown",
      "metadata": {
        "id": "view-in-github",
        "colab_type": "text"
      },
      "source": [
        "<a href=\"https://colab.research.google.com/github/ad5454/AdultIncome/blob/main/Adult_Income_classification.ipynb\" target=\"_parent\"><img src=\"https://colab.research.google.com/assets/colab-badge.svg\" alt=\"Open In Colab\"/></a>"
      ]
    },
    {
      "cell_type": "code",
      "execution_count": null,
      "metadata": {
        "id": "Iq_D5RYHvV_K"
      },
      "outputs": [],
      "source": [
        "import tensorflow as tf\n",
        "import pandas as pd\n",
        "import matplotlib.pyplot as plt"
      ]
    },
    {
      "cell_type": "code",
      "execution_count": null,
      "metadata": {
        "id": "W_t832HT1_L6"
      },
      "outputs": [],
      "source": [
        "project01=pd.read_csv(\"https://raw.githubusercontent.com/ad5454/AdultIncome/main/adult.csv\")"
      ]
    },
    {
      "cell_type": "code",
      "execution_count": null,
      "metadata": {
        "colab": {
          "base_uri": "https://localhost:8080/",
          "height": 443
        },
        "id": "sW8LgEH02lan",
        "outputId": "c500bd73-0a51-49f5-b72f-87d5f29c2da1"
      },
      "outputs": [
        {
          "data": {
            "text/html": [
              "\n",
              "  <div id=\"df-ecde9486-94c6-4280-8256-a385062efa3d\">\n",
              "    <div class=\"colab-df-container\">\n",
              "      <div>\n",
              "<style scoped>\n",
              "    .dataframe tbody tr th:only-of-type {\n",
              "        vertical-align: middle;\n",
              "    }\n",
              "\n",
              "    .dataframe tbody tr th {\n",
              "        vertical-align: top;\n",
              "    }\n",
              "\n",
              "    .dataframe thead th {\n",
              "        text-align: right;\n",
              "    }\n",
              "</style>\n",
              "<table border=\"1\" class=\"dataframe\">\n",
              "  <thead>\n",
              "    <tr style=\"text-align: right;\">\n",
              "      <th></th>\n",
              "      <th>age</th>\n",
              "      <th>workclass</th>\n",
              "      <th>fnlwgt</th>\n",
              "      <th>education</th>\n",
              "      <th>educational-num</th>\n",
              "      <th>marital-status</th>\n",
              "      <th>occupation</th>\n",
              "      <th>relationship</th>\n",
              "      <th>race</th>\n",
              "      <th>gender</th>\n",
              "      <th>capital-gain</th>\n",
              "      <th>capital-loss</th>\n",
              "      <th>hours-per-week</th>\n",
              "      <th>native-country</th>\n",
              "      <th>income</th>\n",
              "    </tr>\n",
              "  </thead>\n",
              "  <tbody>\n",
              "    <tr>\n",
              "      <th>0</th>\n",
              "      <td>25</td>\n",
              "      <td>Private</td>\n",
              "      <td>226802</td>\n",
              "      <td>11th</td>\n",
              "      <td>7</td>\n",
              "      <td>Never-married</td>\n",
              "      <td>Machine-op-inspct</td>\n",
              "      <td>Own-child</td>\n",
              "      <td>Black</td>\n",
              "      <td>Male</td>\n",
              "      <td>0</td>\n",
              "      <td>0</td>\n",
              "      <td>40</td>\n",
              "      <td>United-States</td>\n",
              "      <td>&lt;=50K</td>\n",
              "    </tr>\n",
              "    <tr>\n",
              "      <th>1</th>\n",
              "      <td>38</td>\n",
              "      <td>Private</td>\n",
              "      <td>89814</td>\n",
              "      <td>HS-grad</td>\n",
              "      <td>9</td>\n",
              "      <td>Married-civ-spouse</td>\n",
              "      <td>Farming-fishing</td>\n",
              "      <td>Husband</td>\n",
              "      <td>White</td>\n",
              "      <td>Male</td>\n",
              "      <td>0</td>\n",
              "      <td>0</td>\n",
              "      <td>50</td>\n",
              "      <td>United-States</td>\n",
              "      <td>&lt;=50K</td>\n",
              "    </tr>\n",
              "    <tr>\n",
              "      <th>2</th>\n",
              "      <td>28</td>\n",
              "      <td>Local-gov</td>\n",
              "      <td>336951</td>\n",
              "      <td>Assoc-acdm</td>\n",
              "      <td>12</td>\n",
              "      <td>Married-civ-spouse</td>\n",
              "      <td>Protective-serv</td>\n",
              "      <td>Husband</td>\n",
              "      <td>White</td>\n",
              "      <td>Male</td>\n",
              "      <td>0</td>\n",
              "      <td>0</td>\n",
              "      <td>40</td>\n",
              "      <td>United-States</td>\n",
              "      <td>&gt;50K</td>\n",
              "    </tr>\n",
              "    <tr>\n",
              "      <th>3</th>\n",
              "      <td>44</td>\n",
              "      <td>Private</td>\n",
              "      <td>160323</td>\n",
              "      <td>Some-college</td>\n",
              "      <td>10</td>\n",
              "      <td>Married-civ-spouse</td>\n",
              "      <td>Machine-op-inspct</td>\n",
              "      <td>Husband</td>\n",
              "      <td>Black</td>\n",
              "      <td>Male</td>\n",
              "      <td>7688</td>\n",
              "      <td>0</td>\n",
              "      <td>40</td>\n",
              "      <td>United-States</td>\n",
              "      <td>&gt;50K</td>\n",
              "    </tr>\n",
              "    <tr>\n",
              "      <th>4</th>\n",
              "      <td>18</td>\n",
              "      <td>?</td>\n",
              "      <td>103497</td>\n",
              "      <td>Some-college</td>\n",
              "      <td>10</td>\n",
              "      <td>Never-married</td>\n",
              "      <td>?</td>\n",
              "      <td>Own-child</td>\n",
              "      <td>White</td>\n",
              "      <td>Female</td>\n",
              "      <td>0</td>\n",
              "      <td>0</td>\n",
              "      <td>30</td>\n",
              "      <td>United-States</td>\n",
              "      <td>&lt;=50K</td>\n",
              "    </tr>\n",
              "  </tbody>\n",
              "</table>\n",
              "</div>\n",
              "      <button class=\"colab-df-convert\" onclick=\"convertToInteractive('df-ecde9486-94c6-4280-8256-a385062efa3d')\"\n",
              "              title=\"Convert this dataframe to an interactive table.\"\n",
              "              style=\"display:none;\">\n",
              "        \n",
              "  <svg xmlns=\"http://www.w3.org/2000/svg\" height=\"24px\"viewBox=\"0 0 24 24\"\n",
              "       width=\"24px\">\n",
              "    <path d=\"M0 0h24v24H0V0z\" fill=\"none\"/>\n",
              "    <path d=\"M18.56 5.44l.94 2.06.94-2.06 2.06-.94-2.06-.94-.94-2.06-.94 2.06-2.06.94zm-11 1L8.5 8.5l.94-2.06 2.06-.94-2.06-.94L8.5 2.5l-.94 2.06-2.06.94zm10 10l.94 2.06.94-2.06 2.06-.94-2.06-.94-.94-2.06-.94 2.06-2.06.94z\"/><path d=\"M17.41 7.96l-1.37-1.37c-.4-.4-.92-.59-1.43-.59-.52 0-1.04.2-1.43.59L10.3 9.45l-7.72 7.72c-.78.78-.78 2.05 0 2.83L4 21.41c.39.39.9.59 1.41.59.51 0 1.02-.2 1.41-.59l7.78-7.78 2.81-2.81c.8-.78.8-2.07 0-2.86zM5.41 20L4 18.59l7.72-7.72 1.47 1.35L5.41 20z\"/>\n",
              "  </svg>\n",
              "      </button>\n",
              "      \n",
              "  <style>\n",
              "    .colab-df-container {\n",
              "      display:flex;\n",
              "      flex-wrap:wrap;\n",
              "      gap: 12px;\n",
              "    }\n",
              "\n",
              "    .colab-df-convert {\n",
              "      background-color: #E8F0FE;\n",
              "      border: none;\n",
              "      border-radius: 50%;\n",
              "      cursor: pointer;\n",
              "      display: none;\n",
              "      fill: #1967D2;\n",
              "      height: 32px;\n",
              "      padding: 0 0 0 0;\n",
              "      width: 32px;\n",
              "    }\n",
              "\n",
              "    .colab-df-convert:hover {\n",
              "      background-color: #E2EBFA;\n",
              "      box-shadow: 0px 1px 2px rgba(60, 64, 67, 0.3), 0px 1px 3px 1px rgba(60, 64, 67, 0.15);\n",
              "      fill: #174EA6;\n",
              "    }\n",
              "\n",
              "    [theme=dark] .colab-df-convert {\n",
              "      background-color: #3B4455;\n",
              "      fill: #D2E3FC;\n",
              "    }\n",
              "\n",
              "    [theme=dark] .colab-df-convert:hover {\n",
              "      background-color: #434B5C;\n",
              "      box-shadow: 0px 1px 3px 1px rgba(0, 0, 0, 0.15);\n",
              "      filter: drop-shadow(0px 1px 2px rgba(0, 0, 0, 0.3));\n",
              "      fill: #FFFFFF;\n",
              "    }\n",
              "  </style>\n",
              "\n",
              "      <script>\n",
              "        const buttonEl =\n",
              "          document.querySelector('#df-ecde9486-94c6-4280-8256-a385062efa3d button.colab-df-convert');\n",
              "        buttonEl.style.display =\n",
              "          google.colab.kernel.accessAllowed ? 'block' : 'none';\n",
              "\n",
              "        async function convertToInteractive(key) {\n",
              "          const element = document.querySelector('#df-ecde9486-94c6-4280-8256-a385062efa3d');\n",
              "          const dataTable =\n",
              "            await google.colab.kernel.invokeFunction('convertToInteractive',\n",
              "                                                     [key], {});\n",
              "          if (!dataTable) return;\n",
              "\n",
              "          const docLinkHtml = 'Like what you see? Visit the ' +\n",
              "            '<a target=\"_blank\" href=https://colab.research.google.com/notebooks/data_table.ipynb>data table notebook</a>'\n",
              "            + ' to learn more about interactive tables.';\n",
              "          element.innerHTML = '';\n",
              "          dataTable['output_type'] = 'display_data';\n",
              "          await google.colab.output.renderOutput(dataTable, element);\n",
              "          const docLink = document.createElement('div');\n",
              "          docLink.innerHTML = docLinkHtml;\n",
              "          element.appendChild(docLink);\n",
              "        }\n",
              "      </script>\n",
              "    </div>\n",
              "  </div>\n",
              "  "
            ],
            "text/plain": [
              "   age  workclass  fnlwgt     education  educational-num      marital-status  \\\n",
              "0   25    Private  226802          11th                7       Never-married   \n",
              "1   38    Private   89814       HS-grad                9  Married-civ-spouse   \n",
              "2   28  Local-gov  336951    Assoc-acdm               12  Married-civ-spouse   \n",
              "3   44    Private  160323  Some-college               10  Married-civ-spouse   \n",
              "4   18          ?  103497  Some-college               10       Never-married   \n",
              "\n",
              "          occupation relationship   race  gender  capital-gain  capital-loss  \\\n",
              "0  Machine-op-inspct    Own-child  Black    Male             0             0   \n",
              "1    Farming-fishing      Husband  White    Male             0             0   \n",
              "2    Protective-serv      Husband  White    Male             0             0   \n",
              "3  Machine-op-inspct      Husband  Black    Male          7688             0   \n",
              "4                  ?    Own-child  White  Female             0             0   \n",
              "\n",
              "   hours-per-week native-country income  \n",
              "0              40  United-States  <=50K  \n",
              "1              50  United-States  <=50K  \n",
              "2              40  United-States   >50K  \n",
              "3              40  United-States   >50K  \n",
              "4              30  United-States  <=50K  "
            ]
          },
          "execution_count": 4,
          "metadata": {},
          "output_type": "execute_result"
        }
      ],
      "source": [
        "project01.head()"
      ]
    },
    {
      "cell_type": "code",
      "execution_count": null,
      "metadata": {
        "id": "eZ0mhsyU22BI"
      },
      "outputs": [],
      "source": [
        "### Creating x and y (features and lables)\n",
        "x = project01.drop(\"income\",axis=1)\n",
        "y= project01[\"income\"]"
      ]
    },
    {
      "cell_type": "code",
      "execution_count": null,
      "metadata": {
        "colab": {
          "base_uri": "https://localhost:8080/",
          "height": 443
        },
        "id": "3psFUfUi3iwF",
        "outputId": "d68675c8-2090-457d-cd1c-fb2a24b9759e"
      },
      "outputs": [
        {
          "data": {
            "text/html": [
              "\n",
              "  <div id=\"df-53f62f63-c207-4fab-80a8-1751d016d549\">\n",
              "    <div class=\"colab-df-container\">\n",
              "      <div>\n",
              "<style scoped>\n",
              "    .dataframe tbody tr th:only-of-type {\n",
              "        vertical-align: middle;\n",
              "    }\n",
              "\n",
              "    .dataframe tbody tr th {\n",
              "        vertical-align: top;\n",
              "    }\n",
              "\n",
              "    .dataframe thead th {\n",
              "        text-align: right;\n",
              "    }\n",
              "</style>\n",
              "<table border=\"1\" class=\"dataframe\">\n",
              "  <thead>\n",
              "    <tr style=\"text-align: right;\">\n",
              "      <th></th>\n",
              "      <th>age</th>\n",
              "      <th>workclass</th>\n",
              "      <th>fnlwgt</th>\n",
              "      <th>education</th>\n",
              "      <th>educational-num</th>\n",
              "      <th>marital-status</th>\n",
              "      <th>occupation</th>\n",
              "      <th>relationship</th>\n",
              "      <th>race</th>\n",
              "      <th>gender</th>\n",
              "      <th>capital-gain</th>\n",
              "      <th>capital-loss</th>\n",
              "      <th>hours-per-week</th>\n",
              "      <th>native-country</th>\n",
              "    </tr>\n",
              "  </thead>\n",
              "  <tbody>\n",
              "    <tr>\n",
              "      <th>0</th>\n",
              "      <td>25</td>\n",
              "      <td>Private</td>\n",
              "      <td>226802</td>\n",
              "      <td>11th</td>\n",
              "      <td>7</td>\n",
              "      <td>Never-married</td>\n",
              "      <td>Machine-op-inspct</td>\n",
              "      <td>Own-child</td>\n",
              "      <td>Black</td>\n",
              "      <td>Male</td>\n",
              "      <td>0</td>\n",
              "      <td>0</td>\n",
              "      <td>40</td>\n",
              "      <td>United-States</td>\n",
              "    </tr>\n",
              "    <tr>\n",
              "      <th>1</th>\n",
              "      <td>38</td>\n",
              "      <td>Private</td>\n",
              "      <td>89814</td>\n",
              "      <td>HS-grad</td>\n",
              "      <td>9</td>\n",
              "      <td>Married-civ-spouse</td>\n",
              "      <td>Farming-fishing</td>\n",
              "      <td>Husband</td>\n",
              "      <td>White</td>\n",
              "      <td>Male</td>\n",
              "      <td>0</td>\n",
              "      <td>0</td>\n",
              "      <td>50</td>\n",
              "      <td>United-States</td>\n",
              "    </tr>\n",
              "    <tr>\n",
              "      <th>2</th>\n",
              "      <td>28</td>\n",
              "      <td>Local-gov</td>\n",
              "      <td>336951</td>\n",
              "      <td>Assoc-acdm</td>\n",
              "      <td>12</td>\n",
              "      <td>Married-civ-spouse</td>\n",
              "      <td>Protective-serv</td>\n",
              "      <td>Husband</td>\n",
              "      <td>White</td>\n",
              "      <td>Male</td>\n",
              "      <td>0</td>\n",
              "      <td>0</td>\n",
              "      <td>40</td>\n",
              "      <td>United-States</td>\n",
              "    </tr>\n",
              "    <tr>\n",
              "      <th>3</th>\n",
              "      <td>44</td>\n",
              "      <td>Private</td>\n",
              "      <td>160323</td>\n",
              "      <td>Some-college</td>\n",
              "      <td>10</td>\n",
              "      <td>Married-civ-spouse</td>\n",
              "      <td>Machine-op-inspct</td>\n",
              "      <td>Husband</td>\n",
              "      <td>Black</td>\n",
              "      <td>Male</td>\n",
              "      <td>7688</td>\n",
              "      <td>0</td>\n",
              "      <td>40</td>\n",
              "      <td>United-States</td>\n",
              "    </tr>\n",
              "    <tr>\n",
              "      <th>4</th>\n",
              "      <td>18</td>\n",
              "      <td>?</td>\n",
              "      <td>103497</td>\n",
              "      <td>Some-college</td>\n",
              "      <td>10</td>\n",
              "      <td>Never-married</td>\n",
              "      <td>?</td>\n",
              "      <td>Own-child</td>\n",
              "      <td>White</td>\n",
              "      <td>Female</td>\n",
              "      <td>0</td>\n",
              "      <td>0</td>\n",
              "      <td>30</td>\n",
              "      <td>United-States</td>\n",
              "    </tr>\n",
              "  </tbody>\n",
              "</table>\n",
              "</div>\n",
              "      <button class=\"colab-df-convert\" onclick=\"convertToInteractive('df-53f62f63-c207-4fab-80a8-1751d016d549')\"\n",
              "              title=\"Convert this dataframe to an interactive table.\"\n",
              "              style=\"display:none;\">\n",
              "        \n",
              "  <svg xmlns=\"http://www.w3.org/2000/svg\" height=\"24px\"viewBox=\"0 0 24 24\"\n",
              "       width=\"24px\">\n",
              "    <path d=\"M0 0h24v24H0V0z\" fill=\"none\"/>\n",
              "    <path d=\"M18.56 5.44l.94 2.06.94-2.06 2.06-.94-2.06-.94-.94-2.06-.94 2.06-2.06.94zm-11 1L8.5 8.5l.94-2.06 2.06-.94-2.06-.94L8.5 2.5l-.94 2.06-2.06.94zm10 10l.94 2.06.94-2.06 2.06-.94-2.06-.94-.94-2.06-.94 2.06-2.06.94z\"/><path d=\"M17.41 7.96l-1.37-1.37c-.4-.4-.92-.59-1.43-.59-.52 0-1.04.2-1.43.59L10.3 9.45l-7.72 7.72c-.78.78-.78 2.05 0 2.83L4 21.41c.39.39.9.59 1.41.59.51 0 1.02-.2 1.41-.59l7.78-7.78 2.81-2.81c.8-.78.8-2.07 0-2.86zM5.41 20L4 18.59l7.72-7.72 1.47 1.35L5.41 20z\"/>\n",
              "  </svg>\n",
              "      </button>\n",
              "      \n",
              "  <style>\n",
              "    .colab-df-container {\n",
              "      display:flex;\n",
              "      flex-wrap:wrap;\n",
              "      gap: 12px;\n",
              "    }\n",
              "\n",
              "    .colab-df-convert {\n",
              "      background-color: #E8F0FE;\n",
              "      border: none;\n",
              "      border-radius: 50%;\n",
              "      cursor: pointer;\n",
              "      display: none;\n",
              "      fill: #1967D2;\n",
              "      height: 32px;\n",
              "      padding: 0 0 0 0;\n",
              "      width: 32px;\n",
              "    }\n",
              "\n",
              "    .colab-df-convert:hover {\n",
              "      background-color: #E2EBFA;\n",
              "      box-shadow: 0px 1px 2px rgba(60, 64, 67, 0.3), 0px 1px 3px 1px rgba(60, 64, 67, 0.15);\n",
              "      fill: #174EA6;\n",
              "    }\n",
              "\n",
              "    [theme=dark] .colab-df-convert {\n",
              "      background-color: #3B4455;\n",
              "      fill: #D2E3FC;\n",
              "    }\n",
              "\n",
              "    [theme=dark] .colab-df-convert:hover {\n",
              "      background-color: #434B5C;\n",
              "      box-shadow: 0px 1px 3px 1px rgba(0, 0, 0, 0.15);\n",
              "      filter: drop-shadow(0px 1px 2px rgba(0, 0, 0, 0.3));\n",
              "      fill: #FFFFFF;\n",
              "    }\n",
              "  </style>\n",
              "\n",
              "      <script>\n",
              "        const buttonEl =\n",
              "          document.querySelector('#df-53f62f63-c207-4fab-80a8-1751d016d549 button.colab-df-convert');\n",
              "        buttonEl.style.display =\n",
              "          google.colab.kernel.accessAllowed ? 'block' : 'none';\n",
              "\n",
              "        async function convertToInteractive(key) {\n",
              "          const element = document.querySelector('#df-53f62f63-c207-4fab-80a8-1751d016d549');\n",
              "          const dataTable =\n",
              "            await google.colab.kernel.invokeFunction('convertToInteractive',\n",
              "                                                     [key], {});\n",
              "          if (!dataTable) return;\n",
              "\n",
              "          const docLinkHtml = 'Like what you see? Visit the ' +\n",
              "            '<a target=\"_blank\" href=https://colab.research.google.com/notebooks/data_table.ipynb>data table notebook</a>'\n",
              "            + ' to learn more about interactive tables.';\n",
              "          element.innerHTML = '';\n",
              "          dataTable['output_type'] = 'display_data';\n",
              "          await google.colab.output.renderOutput(dataTable, element);\n",
              "          const docLink = document.createElement('div');\n",
              "          docLink.innerHTML = docLinkHtml;\n",
              "          element.appendChild(docLink);\n",
              "        }\n",
              "      </script>\n",
              "    </div>\n",
              "  </div>\n",
              "  "
            ],
            "text/plain": [
              "   age  workclass  fnlwgt     education  educational-num      marital-status  \\\n",
              "0   25    Private  226802          11th                7       Never-married   \n",
              "1   38    Private   89814       HS-grad                9  Married-civ-spouse   \n",
              "2   28  Local-gov  336951    Assoc-acdm               12  Married-civ-spouse   \n",
              "3   44    Private  160323  Some-college               10  Married-civ-spouse   \n",
              "4   18          ?  103497  Some-college               10       Never-married   \n",
              "\n",
              "          occupation relationship   race  gender  capital-gain  capital-loss  \\\n",
              "0  Machine-op-inspct    Own-child  Black    Male             0             0   \n",
              "1    Farming-fishing      Husband  White    Male             0             0   \n",
              "2    Protective-serv      Husband  White    Male             0             0   \n",
              "3  Machine-op-inspct      Husband  Black    Male          7688             0   \n",
              "4                  ?    Own-child  White  Female             0             0   \n",
              "\n",
              "   hours-per-week native-country  \n",
              "0              40  United-States  \n",
              "1              50  United-States  \n",
              "2              40  United-States  \n",
              "3              40  United-States  \n",
              "4              30  United-States  "
            ]
          },
          "execution_count": 8,
          "metadata": {},
          "output_type": "execute_result"
        }
      ],
      "source": [
        "x.head()"
      ]
    },
    {
      "cell_type": "code",
      "execution_count": null,
      "metadata": {
        "colab": {
          "base_uri": "https://localhost:8080/",
          "height": 334
        },
        "id": "Bje9vfquOO97",
        "outputId": "90ce6e27-3659-4894-b4a9-23d8466b0b44"
      },
      "outputs": [
        {
          "data": {
            "text/html": [
              "\n",
              "  <div id=\"df-700ed87b-9ce4-4ce4-8451-9b2df86649d5\">\n",
              "    <div class=\"colab-df-container\">\n",
              "      <div>\n",
              "<style scoped>\n",
              "    .dataframe tbody tr th:only-of-type {\n",
              "        vertical-align: middle;\n",
              "    }\n",
              "\n",
              "    .dataframe tbody tr th {\n",
              "        vertical-align: top;\n",
              "    }\n",
              "\n",
              "    .dataframe thead th {\n",
              "        text-align: right;\n",
              "    }\n",
              "</style>\n",
              "<table border=\"1\" class=\"dataframe\">\n",
              "  <thead>\n",
              "    <tr style=\"text-align: right;\">\n",
              "      <th></th>\n",
              "      <th>age</th>\n",
              "      <th>fnlwgt</th>\n",
              "      <th>educational-num</th>\n",
              "      <th>capital-gain</th>\n",
              "      <th>capital-loss</th>\n",
              "      <th>hours-per-week</th>\n",
              "      <th>workclass_?</th>\n",
              "      <th>workclass_Federal-gov</th>\n",
              "      <th>workclass_Local-gov</th>\n",
              "      <th>workclass_Never-worked</th>\n",
              "      <th>...</th>\n",
              "      <th>native-country_Portugal</th>\n",
              "      <th>native-country_Puerto-Rico</th>\n",
              "      <th>native-country_Scotland</th>\n",
              "      <th>native-country_South</th>\n",
              "      <th>native-country_Taiwan</th>\n",
              "      <th>native-country_Thailand</th>\n",
              "      <th>native-country_Trinadad&amp;Tobago</th>\n",
              "      <th>native-country_United-States</th>\n",
              "      <th>native-country_Vietnam</th>\n",
              "      <th>native-country_Yugoslavia</th>\n",
              "    </tr>\n",
              "  </thead>\n",
              "  <tbody>\n",
              "    <tr>\n",
              "      <th>0</th>\n",
              "      <td>25</td>\n",
              "      <td>226802</td>\n",
              "      <td>7</td>\n",
              "      <td>0</td>\n",
              "      <td>0</td>\n",
              "      <td>40</td>\n",
              "      <td>0</td>\n",
              "      <td>0</td>\n",
              "      <td>0</td>\n",
              "      <td>0</td>\n",
              "      <td>...</td>\n",
              "      <td>0</td>\n",
              "      <td>0</td>\n",
              "      <td>0</td>\n",
              "      <td>0</td>\n",
              "      <td>0</td>\n",
              "      <td>0</td>\n",
              "      <td>0</td>\n",
              "      <td>1</td>\n",
              "      <td>0</td>\n",
              "      <td>0</td>\n",
              "    </tr>\n",
              "    <tr>\n",
              "      <th>1</th>\n",
              "      <td>38</td>\n",
              "      <td>89814</td>\n",
              "      <td>9</td>\n",
              "      <td>0</td>\n",
              "      <td>0</td>\n",
              "      <td>50</td>\n",
              "      <td>0</td>\n",
              "      <td>0</td>\n",
              "      <td>0</td>\n",
              "      <td>0</td>\n",
              "      <td>...</td>\n",
              "      <td>0</td>\n",
              "      <td>0</td>\n",
              "      <td>0</td>\n",
              "      <td>0</td>\n",
              "      <td>0</td>\n",
              "      <td>0</td>\n",
              "      <td>0</td>\n",
              "      <td>1</td>\n",
              "      <td>0</td>\n",
              "      <td>0</td>\n",
              "    </tr>\n",
              "    <tr>\n",
              "      <th>2</th>\n",
              "      <td>28</td>\n",
              "      <td>336951</td>\n",
              "      <td>12</td>\n",
              "      <td>0</td>\n",
              "      <td>0</td>\n",
              "      <td>40</td>\n",
              "      <td>0</td>\n",
              "      <td>0</td>\n",
              "      <td>1</td>\n",
              "      <td>0</td>\n",
              "      <td>...</td>\n",
              "      <td>0</td>\n",
              "      <td>0</td>\n",
              "      <td>0</td>\n",
              "      <td>0</td>\n",
              "      <td>0</td>\n",
              "      <td>0</td>\n",
              "      <td>0</td>\n",
              "      <td>1</td>\n",
              "      <td>0</td>\n",
              "      <td>0</td>\n",
              "    </tr>\n",
              "    <tr>\n",
              "      <th>3</th>\n",
              "      <td>44</td>\n",
              "      <td>160323</td>\n",
              "      <td>10</td>\n",
              "      <td>7688</td>\n",
              "      <td>0</td>\n",
              "      <td>40</td>\n",
              "      <td>0</td>\n",
              "      <td>0</td>\n",
              "      <td>0</td>\n",
              "      <td>0</td>\n",
              "      <td>...</td>\n",
              "      <td>0</td>\n",
              "      <td>0</td>\n",
              "      <td>0</td>\n",
              "      <td>0</td>\n",
              "      <td>0</td>\n",
              "      <td>0</td>\n",
              "      <td>0</td>\n",
              "      <td>1</td>\n",
              "      <td>0</td>\n",
              "      <td>0</td>\n",
              "    </tr>\n",
              "    <tr>\n",
              "      <th>4</th>\n",
              "      <td>18</td>\n",
              "      <td>103497</td>\n",
              "      <td>10</td>\n",
              "      <td>0</td>\n",
              "      <td>0</td>\n",
              "      <td>30</td>\n",
              "      <td>1</td>\n",
              "      <td>0</td>\n",
              "      <td>0</td>\n",
              "      <td>0</td>\n",
              "      <td>...</td>\n",
              "      <td>0</td>\n",
              "      <td>0</td>\n",
              "      <td>0</td>\n",
              "      <td>0</td>\n",
              "      <td>0</td>\n",
              "      <td>0</td>\n",
              "      <td>0</td>\n",
              "      <td>1</td>\n",
              "      <td>0</td>\n",
              "      <td>0</td>\n",
              "    </tr>\n",
              "  </tbody>\n",
              "</table>\n",
              "<p>5 rows × 108 columns</p>\n",
              "</div>\n",
              "      <button class=\"colab-df-convert\" onclick=\"convertToInteractive('df-700ed87b-9ce4-4ce4-8451-9b2df86649d5')\"\n",
              "              title=\"Convert this dataframe to an interactive table.\"\n",
              "              style=\"display:none;\">\n",
              "        \n",
              "  <svg xmlns=\"http://www.w3.org/2000/svg\" height=\"24px\"viewBox=\"0 0 24 24\"\n",
              "       width=\"24px\">\n",
              "    <path d=\"M0 0h24v24H0V0z\" fill=\"none\"/>\n",
              "    <path d=\"M18.56 5.44l.94 2.06.94-2.06 2.06-.94-2.06-.94-.94-2.06-.94 2.06-2.06.94zm-11 1L8.5 8.5l.94-2.06 2.06-.94-2.06-.94L8.5 2.5l-.94 2.06-2.06.94zm10 10l.94 2.06.94-2.06 2.06-.94-2.06-.94-.94-2.06-.94 2.06-2.06.94z\"/><path d=\"M17.41 7.96l-1.37-1.37c-.4-.4-.92-.59-1.43-.59-.52 0-1.04.2-1.43.59L10.3 9.45l-7.72 7.72c-.78.78-.78 2.05 0 2.83L4 21.41c.39.39.9.59 1.41.59.51 0 1.02-.2 1.41-.59l7.78-7.78 2.81-2.81c.8-.78.8-2.07 0-2.86zM5.41 20L4 18.59l7.72-7.72 1.47 1.35L5.41 20z\"/>\n",
              "  </svg>\n",
              "      </button>\n",
              "      \n",
              "  <style>\n",
              "    .colab-df-container {\n",
              "      display:flex;\n",
              "      flex-wrap:wrap;\n",
              "      gap: 12px;\n",
              "    }\n",
              "\n",
              "    .colab-df-convert {\n",
              "      background-color: #E8F0FE;\n",
              "      border: none;\n",
              "      border-radius: 50%;\n",
              "      cursor: pointer;\n",
              "      display: none;\n",
              "      fill: #1967D2;\n",
              "      height: 32px;\n",
              "      padding: 0 0 0 0;\n",
              "      width: 32px;\n",
              "    }\n",
              "\n",
              "    .colab-df-convert:hover {\n",
              "      background-color: #E2EBFA;\n",
              "      box-shadow: 0px 1px 2px rgba(60, 64, 67, 0.3), 0px 1px 3px 1px rgba(60, 64, 67, 0.15);\n",
              "      fill: #174EA6;\n",
              "    }\n",
              "\n",
              "    [theme=dark] .colab-df-convert {\n",
              "      background-color: #3B4455;\n",
              "      fill: #D2E3FC;\n",
              "    }\n",
              "\n",
              "    [theme=dark] .colab-df-convert:hover {\n",
              "      background-color: #434B5C;\n",
              "      box-shadow: 0px 1px 3px 1px rgba(0, 0, 0, 0.15);\n",
              "      filter: drop-shadow(0px 1px 2px rgba(0, 0, 0, 0.3));\n",
              "      fill: #FFFFFF;\n",
              "    }\n",
              "  </style>\n",
              "\n",
              "      <script>\n",
              "        const buttonEl =\n",
              "          document.querySelector('#df-700ed87b-9ce4-4ce4-8451-9b2df86649d5 button.colab-df-convert');\n",
              "        buttonEl.style.display =\n",
              "          google.colab.kernel.accessAllowed ? 'block' : 'none';\n",
              "\n",
              "        async function convertToInteractive(key) {\n",
              "          const element = document.querySelector('#df-700ed87b-9ce4-4ce4-8451-9b2df86649d5');\n",
              "          const dataTable =\n",
              "            await google.colab.kernel.invokeFunction('convertToInteractive',\n",
              "                                                     [key], {});\n",
              "          if (!dataTable) return;\n",
              "\n",
              "          const docLinkHtml = 'Like what you see? Visit the ' +\n",
              "            '<a target=\"_blank\" href=https://colab.research.google.com/notebooks/data_table.ipynb>data table notebook</a>'\n",
              "            + ' to learn more about interactive tables.';\n",
              "          element.innerHTML = '';\n",
              "          dataTable['output_type'] = 'display_data';\n",
              "          await google.colab.output.renderOutput(dataTable, element);\n",
              "          const docLink = document.createElement('div');\n",
              "          docLink.innerHTML = docLinkHtml;\n",
              "          element.appendChild(docLink);\n",
              "        }\n",
              "      </script>\n",
              "    </div>\n",
              "  </div>\n",
              "  "
            ],
            "text/plain": [
              "   age  fnlwgt  educational-num  capital-gain  capital-loss  hours-per-week  \\\n",
              "0   25  226802                7             0             0              40   \n",
              "1   38   89814                9             0             0              50   \n",
              "2   28  336951               12             0             0              40   \n",
              "3   44  160323               10          7688             0              40   \n",
              "4   18  103497               10             0             0              30   \n",
              "\n",
              "   workclass_?  workclass_Federal-gov  workclass_Local-gov  \\\n",
              "0            0                      0                    0   \n",
              "1            0                      0                    0   \n",
              "2            0                      0                    1   \n",
              "3            0                      0                    0   \n",
              "4            1                      0                    0   \n",
              "\n",
              "   workclass_Never-worked  ...  native-country_Portugal  \\\n",
              "0                       0  ...                        0   \n",
              "1                       0  ...                        0   \n",
              "2                       0  ...                        0   \n",
              "3                       0  ...                        0   \n",
              "4                       0  ...                        0   \n",
              "\n",
              "   native-country_Puerto-Rico  native-country_Scotland  native-country_South  \\\n",
              "0                           0                        0                     0   \n",
              "1                           0                        0                     0   \n",
              "2                           0                        0                     0   \n",
              "3                           0                        0                     0   \n",
              "4                           0                        0                     0   \n",
              "\n",
              "   native-country_Taiwan  native-country_Thailand  \\\n",
              "0                      0                        0   \n",
              "1                      0                        0   \n",
              "2                      0                        0   \n",
              "3                      0                        0   \n",
              "4                      0                        0   \n",
              "\n",
              "   native-country_Trinadad&Tobago  native-country_United-States  \\\n",
              "0                               0                             1   \n",
              "1                               0                             1   \n",
              "2                               0                             1   \n",
              "3                               0                             1   \n",
              "4                               0                             1   \n",
              "\n",
              "   native-country_Vietnam  native-country_Yugoslavia  \n",
              "0                       0                          0  \n",
              "1                       0                          0  \n",
              "2                       0                          0  \n",
              "3                       0                          0  \n",
              "4                       0                          0  \n",
              "\n",
              "[5 rows x 108 columns]"
            ]
          },
          "execution_count": 29,
          "metadata": {},
          "output_type": "execute_result"
        }
      ],
      "source": [
        "x1 = pd.get_dummies(x)\n",
        "x1.head()"
      ]
    },
    {
      "cell_type": "code",
      "execution_count": null,
      "metadata": {
        "colab": {
          "base_uri": "https://localhost:8080/"
        },
        "id": "8ej5KlQlQLSK",
        "outputId": "846ff124-be64-41bc-bfe8-9dfecf4922fe"
      },
      "outputs": [
        {
          "data": {
            "text/plain": [
              "<tf.Tensor: shape=(2,), dtype=int32, numpy=array([48842,   108], dtype=int32)>"
            ]
          },
          "execution_count": 37,
          "metadata": {},
          "output_type": "execute_result"
        }
      ],
      "source": [
        "tf.shape(x1)"
      ]
    },
    {
      "cell_type": "code",
      "execution_count": null,
      "metadata": {
        "colab": {
          "base_uri": "https://localhost:8080/"
        },
        "id": "w7xzYXN_NG1Y",
        "outputId": "11bd6cfe-e31d-4c39-dcb2-2b1cc719b491"
      },
      "outputs": [
        {
          "data": {
            "text/plain": [
              "0    <=50K\n",
              "1    <=50K\n",
              "2     >50K\n",
              "3     >50K\n",
              "4    <=50K\n",
              "Name: income, dtype: object"
            ]
          },
          "execution_count": 30,
          "metadata": {},
          "output_type": "execute_result"
        }
      ],
      "source": [
        "y.head()"
      ]
    },
    {
      "cell_type": "code",
      "execution_count": null,
      "metadata": {
        "colab": {
          "base_uri": "https://localhost:8080/",
          "height": 206
        },
        "id": "bAfHxZVKOTPI",
        "outputId": "6bf7bd63-9123-44e5-c664-8e33b5114f53"
      },
      "outputs": [
        {
          "data": {
            "text/html": [
              "\n",
              "  <div id=\"df-5aba7b81-ae33-414e-9f05-0211c7c84572\">\n",
              "    <div class=\"colab-df-container\">\n",
              "      <div>\n",
              "<style scoped>\n",
              "    .dataframe tbody tr th:only-of-type {\n",
              "        vertical-align: middle;\n",
              "    }\n",
              "\n",
              "    .dataframe tbody tr th {\n",
              "        vertical-align: top;\n",
              "    }\n",
              "\n",
              "    .dataframe thead th {\n",
              "        text-align: right;\n",
              "    }\n",
              "</style>\n",
              "<table border=\"1\" class=\"dataframe\">\n",
              "  <thead>\n",
              "    <tr style=\"text-align: right;\">\n",
              "      <th></th>\n",
              "      <th>&lt;=50K</th>\n",
              "      <th>&gt;50K</th>\n",
              "    </tr>\n",
              "  </thead>\n",
              "  <tbody>\n",
              "    <tr>\n",
              "      <th>0</th>\n",
              "      <td>1</td>\n",
              "      <td>0</td>\n",
              "    </tr>\n",
              "    <tr>\n",
              "      <th>1</th>\n",
              "      <td>1</td>\n",
              "      <td>0</td>\n",
              "    </tr>\n",
              "    <tr>\n",
              "      <th>2</th>\n",
              "      <td>0</td>\n",
              "      <td>1</td>\n",
              "    </tr>\n",
              "    <tr>\n",
              "      <th>3</th>\n",
              "      <td>0</td>\n",
              "      <td>1</td>\n",
              "    </tr>\n",
              "    <tr>\n",
              "      <th>4</th>\n",
              "      <td>1</td>\n",
              "      <td>0</td>\n",
              "    </tr>\n",
              "  </tbody>\n",
              "</table>\n",
              "</div>\n",
              "      <button class=\"colab-df-convert\" onclick=\"convertToInteractive('df-5aba7b81-ae33-414e-9f05-0211c7c84572')\"\n",
              "              title=\"Convert this dataframe to an interactive table.\"\n",
              "              style=\"display:none;\">\n",
              "        \n",
              "  <svg xmlns=\"http://www.w3.org/2000/svg\" height=\"24px\"viewBox=\"0 0 24 24\"\n",
              "       width=\"24px\">\n",
              "    <path d=\"M0 0h24v24H0V0z\" fill=\"none\"/>\n",
              "    <path d=\"M18.56 5.44l.94 2.06.94-2.06 2.06-.94-2.06-.94-.94-2.06-.94 2.06-2.06.94zm-11 1L8.5 8.5l.94-2.06 2.06-.94-2.06-.94L8.5 2.5l-.94 2.06-2.06.94zm10 10l.94 2.06.94-2.06 2.06-.94-2.06-.94-.94-2.06-.94 2.06-2.06.94z\"/><path d=\"M17.41 7.96l-1.37-1.37c-.4-.4-.92-.59-1.43-.59-.52 0-1.04.2-1.43.59L10.3 9.45l-7.72 7.72c-.78.78-.78 2.05 0 2.83L4 21.41c.39.39.9.59 1.41.59.51 0 1.02-.2 1.41-.59l7.78-7.78 2.81-2.81c.8-.78.8-2.07 0-2.86zM5.41 20L4 18.59l7.72-7.72 1.47 1.35L5.41 20z\"/>\n",
              "  </svg>\n",
              "      </button>\n",
              "      \n",
              "  <style>\n",
              "    .colab-df-container {\n",
              "      display:flex;\n",
              "      flex-wrap:wrap;\n",
              "      gap: 12px;\n",
              "    }\n",
              "\n",
              "    .colab-df-convert {\n",
              "      background-color: #E8F0FE;\n",
              "      border: none;\n",
              "      border-radius: 50%;\n",
              "      cursor: pointer;\n",
              "      display: none;\n",
              "      fill: #1967D2;\n",
              "      height: 32px;\n",
              "      padding: 0 0 0 0;\n",
              "      width: 32px;\n",
              "    }\n",
              "\n",
              "    .colab-df-convert:hover {\n",
              "      background-color: #E2EBFA;\n",
              "      box-shadow: 0px 1px 2px rgba(60, 64, 67, 0.3), 0px 1px 3px 1px rgba(60, 64, 67, 0.15);\n",
              "      fill: #174EA6;\n",
              "    }\n",
              "\n",
              "    [theme=dark] .colab-df-convert {\n",
              "      background-color: #3B4455;\n",
              "      fill: #D2E3FC;\n",
              "    }\n",
              "\n",
              "    [theme=dark] .colab-df-convert:hover {\n",
              "      background-color: #434B5C;\n",
              "      box-shadow: 0px 1px 3px 1px rgba(0, 0, 0, 0.15);\n",
              "      filter: drop-shadow(0px 1px 2px rgba(0, 0, 0, 0.3));\n",
              "      fill: #FFFFFF;\n",
              "    }\n",
              "  </style>\n",
              "\n",
              "      <script>\n",
              "        const buttonEl =\n",
              "          document.querySelector('#df-5aba7b81-ae33-414e-9f05-0211c7c84572 button.colab-df-convert');\n",
              "        buttonEl.style.display =\n",
              "          google.colab.kernel.accessAllowed ? 'block' : 'none';\n",
              "\n",
              "        async function convertToInteractive(key) {\n",
              "          const element = document.querySelector('#df-5aba7b81-ae33-414e-9f05-0211c7c84572');\n",
              "          const dataTable =\n",
              "            await google.colab.kernel.invokeFunction('convertToInteractive',\n",
              "                                                     [key], {});\n",
              "          if (!dataTable) return;\n",
              "\n",
              "          const docLinkHtml = 'Like what you see? Visit the ' +\n",
              "            '<a target=\"_blank\" href=https://colab.research.google.com/notebooks/data_table.ipynb>data table notebook</a>'\n",
              "            + ' to learn more about interactive tables.';\n",
              "          element.innerHTML = '';\n",
              "          dataTable['output_type'] = 'display_data';\n",
              "          await google.colab.output.renderOutput(dataTable, element);\n",
              "          const docLink = document.createElement('div');\n",
              "          docLink.innerHTML = docLinkHtml;\n",
              "          element.appendChild(docLink);\n",
              "        }\n",
              "      </script>\n",
              "    </div>\n",
              "  </div>\n",
              "  "
            ],
            "text/plain": [
              "   <=50K  >50K\n",
              "0      1     0\n",
              "1      1     0\n",
              "2      0     1\n",
              "3      0     1\n",
              "4      1     0"
            ]
          },
          "execution_count": 31,
          "metadata": {},
          "output_type": "execute_result"
        }
      ],
      "source": [
        "y1 = pd.get_dummies(y)\n",
        "y1.head()\n",
        "     "
      ]
    },
    {
      "cell_type": "code",
      "execution_count": null,
      "metadata": {
        "colab": {
          "base_uri": "https://localhost:8080/"
        },
        "id": "Vr4DpqgGQQjA",
        "outputId": "d44e785a-f5fc-4fee-8b55-da0a87d8be19"
      },
      "outputs": [
        {
          "data": {
            "text/plain": [
              "<tf.Tensor: shape=(2,), dtype=int32, numpy=array([48842,     2], dtype=int32)>"
            ]
          },
          "execution_count": 38,
          "metadata": {},
          "output_type": "execute_result"
        }
      ],
      "source": [
        "tf.shape(y1)"
      ]
    },
    {
      "cell_type": "code",
      "execution_count": null,
      "metadata": {
        "id": "G-sV-GEj3rod"
      },
      "outputs": [],
      "source": [
        "from sklearn.model_selection import train_test_split\n",
        "x_train, x_test, y_train, y_test = train_test_split(x1,\n",
        "                                                     y1,\n",
        "                                                     test_size=0.2,\n",
        "                                                     random_state=42)"
      ]
    },
    {
      "cell_type": "code",
      "execution_count": null,
      "metadata": {
        "colab": {
          "base_uri": "https://localhost:8080/"
        },
        "id": "taBijPPE67kA",
        "outputId": "c9d7bd07-80c5-4b88-86a2-d0b0ced63152"
      },
      "outputs": [
        {
          "data": {
            "text/plain": [
              "(48842, 39073, 9769)"
            ]
          },
          "execution_count": 33,
          "metadata": {},
          "output_type": "execute_result"
        }
      ],
      "source": [
        "len(x),len(x_train),len(x_test)"
      ]
    },
    {
      "cell_type": "code",
      "execution_count": null,
      "metadata": {
        "colab": {
          "base_uri": "https://localhost:8080/"
        },
        "id": "pDatVs-Z7Ffq",
        "outputId": "f526f970-3069-450f-c8c2-f788c4b2a51d"
      },
      "outputs": [
        {
          "data": {
            "text/plain": [
              "(48842, 39073, 9769)"
            ]
          },
          "execution_count": 34,
          "metadata": {},
          "output_type": "execute_result"
        }
      ],
      "source": [
        "len(y),len(y_train),len(y_test)"
      ]
    },
    {
      "cell_type": "markdown",
      "metadata": {
        "id": "j0TpznuY9RnP"
      },
      "source": [
        "Model_1"
      ]
    },
    {
      "cell_type": "code",
      "execution_count": null,
      "metadata": {
        "colab": {
          "base_uri": "https://localhost:8080/"
        },
        "id": "5_4W9Ap94gvG",
        "outputId": "bd43905e-db77-4910-cce6-6e3abff15697"
      },
      "outputs": [
        {
          "name": "stdout",
          "output_type": "stream",
          "text": [
            "Epoch 1/10\n",
            "1222/1222 [==============================] - 3s 2ms/step - loss: 1469.6571 - accuracy: 0.6390\n",
            "Epoch 2/10\n",
            "1222/1222 [==============================] - 3s 2ms/step - loss: 0.5481 - accuracy: 0.7692\n",
            "Epoch 3/10\n",
            "1222/1222 [==============================] - 3s 2ms/step - loss: 0.5416 - accuracy: 0.7683\n",
            "Epoch 4/10\n",
            "1222/1222 [==============================] - 2s 2ms/step - loss: 0.5409 - accuracy: 0.7712\n",
            "Epoch 5/10\n",
            "1222/1222 [==============================] - 2s 2ms/step - loss: 0.4961 - accuracy: 0.7967\n",
            "Epoch 6/10\n",
            "1222/1222 [==============================] - 2s 2ms/step - loss: 0.4946 - accuracy: 0.7973\n",
            "Epoch 7/10\n",
            "1222/1222 [==============================] - 2s 2ms/step - loss: 0.5047 - accuracy: 0.7924\n",
            "Epoch 8/10\n",
            "1222/1222 [==============================] - 3s 2ms/step - loss: 0.5028 - accuracy: 0.7920\n",
            "Epoch 9/10\n",
            "1222/1222 [==============================] - 2s 2ms/step - loss: 0.5177 - accuracy: 0.7870\n",
            "Epoch 10/10\n",
            "1222/1222 [==============================] - 2s 2ms/step - loss: 0.5358 - accuracy: 0.7727\n"
          ]
        }
      ],
      "source": [
        "tf.random.set_seed(42)\n",
        "\n",
        "model_1 = tf.keras.Sequential([\n",
        "    tf.keras.layers.Dense(4, activation=tf.keras.activations.relu),\n",
        "    tf.keras.layers.Dense(4, activation=tf.keras.activations.relu),\n",
        "    tf.keras.layers.Dense(2, activation=tf.keras.activations.softmax)\n",
        "])\n",
        "\n",
        "model_1.compile(loss=tf.keras.losses.binary_crossentropy,\n",
        "                optimizer=tf.keras.optimizers.Adam(),\n",
        "                metrics=['accuracy'])\n",
        "\n",
        "\n",
        "history = model_1.fit(x_train,y_train,epochs=10)"
      ]
    },
    {
      "cell_type": "code",
      "execution_count": null,
      "metadata": {
        "colab": {
          "base_uri": "https://localhost:8080/"
        },
        "id": "9rzZ8030541X",
        "outputId": "890c7d10-1b67-4077-9833-2d9b98720bac"
      },
      "outputs": [
        {
          "name": "stdout",
          "output_type": "stream",
          "text": [
            "306/306 [==============================] - 1s 2ms/step - loss: 0.5314 - accuracy: 0.7798\n"
          ]
        },
        {
          "data": {
            "text/plain": [
              "[0.5314266085624695, 0.7798137068748474]"
            ]
          },
          "execution_count": 40,
          "metadata": {},
          "output_type": "execute_result"
        }
      ],
      "source": [
        "model_1.evaluate(x_test,y_test)"
      ]
    },
    {
      "cell_type": "code",
      "execution_count": null,
      "metadata": {
        "colab": {
          "base_uri": "https://localhost:8080/",
          "height": 469
        },
        "id": "sas4DKHvBZMQ",
        "outputId": "76df9739-9493-4b71-e1f8-fe12c2f1809b"
      },
      "outputs": [
        {
          "data": {
            "text/plain": [
              "Text(0.5, 1.0, 'Model_1 training curves')"
            ]
          },
          "execution_count": 41,
          "metadata": {},
          "output_type": "execute_result"
        },
        {
          "data": {
            "image/png": "[encoded data removed]",
            "text/plain": [
              "<Figure size 640x480 with 1 Axes>"
            ]
          },
          "metadata": {},
          "output_type": "display_data"
        }
      ],
      "source": [
        "pd.DataFrame(history.history).plot()\n",
        "plt.title(\"Model_1 training curves\")"
      ]
    },
    {
      "cell_type": "markdown",
      "metadata": {
        "id": "NNJbHY-J8ZKT"
      },
      "source": [
        "Model_2"
      ]
    },
    {
      "cell_type": "code",
      "execution_count": null,
      "metadata": {
        "colab": {
          "base_uri": "https://localhost:8080/"
        },
        "id": "fJWOGDCc7MWs",
        "outputId": "12e9285e-73e7-473d-cda0-4ff49db3fc0c"
      },
      "outputs": [
        {
          "name": "stdout",
          "output_type": "stream",
          "text": [
            "Epoch 1/10\n",
            "1222/1222 [==============================] - 7s 3ms/step - loss: 0.6057 - accuracy: 0.7595\n",
            "Epoch 2/10\n",
            "1222/1222 [==============================] - 4s 3ms/step - loss: 0.5547 - accuracy: 0.7595\n",
            "Epoch 3/10\n",
            "1222/1222 [==============================] - 3s 3ms/step - loss: 0.5517 - accuracy: 0.7595\n",
            "Epoch 4/10\n",
            "1222/1222 [==============================] - 3s 3ms/step - loss: 0.5517 - accuracy: 0.7595\n",
            "Epoch 5/10\n",
            "1222/1222 [==============================] - 5s 4ms/step - loss: 0.5517 - accuracy: 0.7595\n",
            "Epoch 6/10\n",
            "1222/1222 [==============================] - 3s 3ms/step - loss: 0.5517 - accuracy: 0.7595\n",
            "Epoch 7/10\n",
            "1222/1222 [==============================] - 4s 3ms/step - loss: 0.5517 - accuracy: 0.7595\n",
            "Epoch 8/10\n",
            "1222/1222 [==============================] - 4s 4ms/step - loss: 0.5517 - accuracy: 0.7595\n",
            "Epoch 9/10\n",
            "1222/1222 [==============================] - 4s 3ms/step - loss: 0.5517 - accuracy: 0.7595\n",
            "Epoch 10/10\n",
            "1222/1222 [==============================] - 4s 3ms/step - loss: 0.5517 - accuracy: 0.7595\n"
          ]
        }
      ],
      "source": [
        "tf.random.set_seed(42)\n",
        "\n",
        "model_2 = tf.keras.Sequential([\n",
        "    tf.keras.layers.Dense(4, activation=tf.keras.activations.relu),\n",
        "    tf.keras.layers.Dense(4, activation=tf.keras.activations.relu),\n",
        "    tf.keras.layers.Dense(4, activation=tf.keras.activations.relu),\n",
        "    tf.keras.layers.Dense(4, activation=tf.keras.activations.relu),\n",
        "    tf.keras.layers.Dense(4, activation=tf.keras.activations.relu),\n",
        "    tf.keras.layers.Dense(4, activation=tf.keras.activations.relu),\n",
        "    tf.keras.layers.Dense(4, activation=tf.keras.activations.relu),\n",
        "    tf.keras.layers.Dense(4, activation=tf.keras.activations.relu),\n",
        "    tf.keras.layers.Dense(4, activation=tf.keras.activations.relu),\n",
        "    tf.keras.layers.Dense(4, activation=tf.keras.activations.relu),\n",
        "    tf.keras.layers.Dense(4, activation=tf.keras.activations.relu),\n",
        "    tf.keras.layers.Dense(4, activation=tf.keras.activations.relu),\n",
        "    tf.keras.layers.Dense(4, activation=tf.keras.activations.relu),\n",
        "    tf.keras.layers.Dense(2, activation=tf.keras.activations.softmax)\n",
        "])\n",
        "\n",
        "model_2.compile(loss=tf.keras.losses.binary_crossentropy,\n",
        "                optimizer=tf.keras.optimizers.Adam(),\n",
        "                metrics=['accuracy'])\n",
        "\n",
        "history = model_2.fit(x_train,y_train,epochs=10)"
      ]
    },
    {
      "cell_type": "code",
      "execution_count": null,
      "metadata": {
        "colab": {
          "base_uri": "https://localhost:8080/"
        },
        "id": "8Amw0OD2792q",
        "outputId": "e1242bfb-6943-4578-b6ae-cd7da522d95e"
      },
      "outputs": [
        {
          "name": "stdout",
          "output_type": "stream",
          "text": [
            "306/306 [==============================] - 1s 2ms/step - loss: 0.5447 - accuracy: 0.7656\n"
          ]
        },
        {
          "data": {
            "text/plain": [
              "[0.5447059273719788, 0.7655850052833557]"
            ]
          },
          "execution_count": 45,
          "metadata": {},
          "output_type": "execute_result"
        }
      ],
      "source": [
        "model_2.evaluate(x_test,y_test)"
      ]
    },
    {
      "cell_type": "code",
      "execution_count": null,
      "metadata": {
        "colab": {
          "base_uri": "https://localhost:8080/",
          "height": 469
        },
        "id": "t3eq1n7TBpwW",
        "outputId": "99216bb2-8d2c-4ac6-ce0f-d7bb77541027"
      },
      "outputs": [
        {
          "data": {
            "text/plain": [
              "Text(0.5, 1.0, 'Model_2 training curves')"
            ]
          },
          "execution_count": 46,
          "metadata": {},
          "output_type": "execute_result"
        },
        {
          "data": {
            "image/png": "[encoded data removed]",
            "text/plain": [
              "<Figure size 640x480 with 1 Axes>"
            ]
          },
          "metadata": {},
          "output_type": "display_data"
        }
      ],
      "source": [
        "pd.DataFrame(history.history).plot()\n",
        "plt.title(\"Model_2 training curves\")"
      ]
    },
    {
      "cell_type": "markdown",
      "metadata": {
        "id": "vVpF0kzC-FoJ"
      },
      "source": [
        "Model_3"
      ]
    },
    {
      "cell_type": "code",
      "execution_count": null,
      "metadata": {
        "colab": {
          "base_uri": "https://localhost:8080/"
        },
        "id": "qmqUHaIp-FRb",
        "outputId": "bea54a65-b611-487b-eb63-8535909b710c"
      },
      "outputs": [
        {
          "name": "stdout",
          "output_type": "stream",
          "text": [
            "Epoch 1/10\n",
            "1222/1222 [==============================] - 8s 6ms/step - loss: 14.4820 - accuracy: 0.7489\n",
            "Epoch 2/10\n",
            "1222/1222 [==============================] - 8s 7ms/step - loss: 0.5556 - accuracy: 0.7595\n",
            "Epoch 3/10\n",
            "1222/1222 [==============================] - 8s 6ms/step - loss: 0.5518 - accuracy: 0.7595\n",
            "Epoch 4/10\n",
            "1222/1222 [==============================] - 7s 6ms/step - loss: 0.5517 - accuracy: 0.7595\n",
            "Epoch 5/10\n",
            "1222/1222 [==============================] - 8s 7ms/step - loss: 0.5517 - accuracy: 0.7595\n",
            "Epoch 6/10\n",
            "1222/1222 [==============================] - 7s 6ms/step - loss: 0.5517 - accuracy: 0.7595\n",
            "Epoch 7/10\n",
            "1222/1222 [==============================] - 8s 7ms/step - loss: 0.5517 - accuracy: 0.7595\n",
            "Epoch 8/10\n",
            "1222/1222 [==============================] - 7s 6ms/step - loss: 0.5517 - accuracy: 0.7595\n",
            "Epoch 9/10\n",
            "1222/1222 [==============================] - 8s 6ms/step - loss: 0.5517 - accuracy: 0.7595\n",
            "Epoch 10/10\n",
            "1222/1222 [==============================] - 8s 7ms/step - loss: 0.5517 - accuracy: 0.7595\n"
          ]
        }
      ],
      "source": [
        "tf.random.set_seed(42)\n",
        "\n",
        "model_3 = tf.keras.Sequential([\n",
        "    tf.keras.layers.Dense(1000, activation=tf.keras.activations.relu),\n",
        "    tf.keras.layers.Dense(100, activation=tf.keras.activations.relu),\n",
        "    tf.keras.layers.Dense(10, activation=tf.keras.activations.relu),\n",
        "    tf.keras.layers.Dense(2, activation=tf.keras.activations.softmax)\n",
        "])\n",
        "\n",
        "model_3.compile(loss=tf.keras.losses.binary_crossentropy,\n",
        "                optimizer=tf.keras.optimizers.Adam(),\n",
        "                metrics=['accuracy'])\n",
        "\n",
        "history = model_3.fit(x_train,y_train,epochs=10)"
      ]
    },
    {
      "cell_type": "code",
      "execution_count": null,
      "metadata": {
        "colab": {
          "base_uri": "https://localhost:8080/"
        },
        "id": "vrOj_x7v-Vt5",
        "outputId": "7bc85793-ae8f-4e5f-fa17-2ed1906e8b9a"
      },
      "outputs": [
        {
          "name": "stdout",
          "output_type": "stream",
          "text": [
            "306/306 [==============================] - 1s 2ms/step - loss: 0.5447 - accuracy: 0.7656\n"
          ]
        },
        {
          "data": {
            "text/plain": [
              "[0.5447059273719788, 0.7655850052833557]"
            ]
          },
          "execution_count": 50,
          "metadata": {},
          "output_type": "execute_result"
        }
      ],
      "source": [
        "model_3.evaluate(x_test,y_test)"
      ]
    },
    {
      "cell_type": "code",
      "execution_count": null,
      "metadata": {
        "colab": {
          "base_uri": "https://localhost:8080/",
          "height": 469
        },
        "id": "pMyS3ixyBrsR",
        "outputId": "5106615e-67e5-478e-b400-d1598a2d2596"
      },
      "outputs": [
        {
          "data": {
            "text/plain": [
              "Text(0.5, 1.0, 'Model_3 training curves')"
            ]
          },
          "execution_count": 51,
          "metadata": {},
          "output_type": "execute_result"
        },
        {
          "data": {
            "image/png": "[encoded data removed]",
            "text/plain": [
              "<Figure size 640x480 with 1 Axes>"
            ]
          },
          "metadata": {},
          "output_type": "display_data"
        }
      ],
      "source": [
        "pd.DataFrame(history.history).plot()\n",
        "plt.title(\"Model_3 training curves\")"
      ]
    },
    {
      "cell_type": "markdown",
      "metadata": {
        "id": "6Mif4KYp_Xuf"
      },
      "source": [
        "Model_4"
      ]
    },
    {
      "cell_type": "code",
      "execution_count": null,
      "metadata": {
        "colab": {
          "base_uri": "https://localhost:8080/"
        },
        "id": "u9oD3VBq_ZhG",
        "outputId": "ea300da9-43ec-450c-8e87-022fd0c70fbe"
      },
      "outputs": [
        {
          "name": "stderr",
          "output_type": "stream",
          "text": [
            "WARNING:absl:`lr` is deprecated in Keras optimizer, please use `learning_rate` or use the legacy optimizer, e.g.,tf.keras.optimizers.legacy.Adam.\n"
          ]
        },
        {
          "name": "stdout",
          "output_type": "stream",
          "text": [
            "Epoch 1/10\n",
            "1222/1222 [==============================] - 4s 3ms/step - loss: 188.8528 - accuracy: 0.7046\n",
            "Epoch 2/10\n",
            "1222/1222 [==============================] - 2s 2ms/step - loss: 0.5727 - accuracy: 0.7595\n",
            "Epoch 3/10\n",
            "1222/1222 [==============================] - 2s 2ms/step - loss: 0.5521 - accuracy: 0.7595\n",
            "Epoch 4/10\n",
            "1222/1222 [==============================] - 2s 2ms/step - loss: 0.5517 - accuracy: 0.7595\n",
            "Epoch 5/10\n",
            "1222/1222 [==============================] - 2s 2ms/step - loss: 0.5517 - accuracy: 0.7595\n",
            "Epoch 6/10\n",
            "1222/1222 [==============================] - 3s 2ms/step - loss: 0.5517 - accuracy: 0.7595\n",
            "Epoch 7/10\n",
            "1222/1222 [==============================] - 3s 2ms/step - loss: 0.5517 - accuracy: 0.7595\n",
            "Epoch 8/10\n",
            "1222/1222 [==============================] - 2s 2ms/step - loss: 0.5517 - accuracy: 0.7595\n",
            "Epoch 9/10\n",
            "1222/1222 [==============================] - 2s 2ms/step - loss: 0.5517 - accuracy: 0.7595\n",
            "Epoch 10/10\n",
            "1222/1222 [==============================] - 2s 2ms/step - loss: 0.5517 - accuracy: 0.7595\n"
          ]
        }
      ],
      "source": [
        "tf.random.set_seed(42)\n",
        "\n",
        "# Create the model (same as model_1)\n",
        "model_4 = tf.keras.Sequential([\n",
        "  tf.keras.layers.Dense(4, activation=\"relu\"), # hidden layer 1, using \"relu\" for activation (same as tf.keras.activations.relu)\n",
        "  tf.keras.layers.Dense(4, activation=\"relu\"),\n",
        "  tf.keras.layers.Dense(2, activation=\"softmax\") # output layer, using 'sigmoid' for the output\n",
        "])\n",
        "\n",
        "# Compile the model\n",
        "model_4.compile(loss=tf.keras.losses.binary_crossentropy,\n",
        "                optimizer=tf.keras.optimizers.Adam(lr=0.01), # increase learning rate from 0.001 to 0.01 for faster learning\n",
        "                metrics=['accuracy'])\n",
        "\n",
        "# Fit the model\n",
        "history = model_4.fit(x_train, y_train, epochs=10)"
      ]
    },
    {
      "cell_type": "code",
      "execution_count": null,
      "metadata": {
        "colab": {
          "base_uri": "https://localhost:8080/"
        },
        "id": "jmFxYyeQ_neM",
        "outputId": "8e448396-ecdc-4ef5-b266-0af2c5c1d132"
      },
      "outputs": [
        {
          "name": "stdout",
          "output_type": "stream",
          "text": [
            "306/306 [==============================] - 1s 2ms/step - loss: 0.5447 - accuracy: 0.7656\n"
          ]
        },
        {
          "data": {
            "text/plain": [
              "[0.5447058081626892, 0.7655850052833557]"
            ]
          },
          "execution_count": 53,
          "metadata": {},
          "output_type": "execute_result"
        }
      ],
      "source": [
        "model_4.evaluate(x_test,y_test)"
      ]
    },
    {
      "cell_type": "code",
      "execution_count": null,
      "metadata": {
        "colab": {
          "base_uri": "https://localhost:8080/",
          "height": 469
        },
        "id": "dGL-Uka3BtgC",
        "outputId": "27f02a27-e728-471d-d20c-37c63c312bc5"
      },
      "outputs": [
        {
          "data": {
            "text/plain": [
              "Text(0.5, 1.0, 'Model_4 training curves')"
            ]
          },
          "execution_count": 54,
          "metadata": {},
          "output_type": "execute_result"
        },
        {
          "data": {
            "image/png": "[encoded data removed]",
            "text/plain": [
              "<Figure size 640x480 with 1 Axes>"
            ]
          },
          "metadata": {},
          "output_type": "display_data"
        }
      ],
      "source": [
        "pd.DataFrame(history.history).plot()\n",
        "plt.title(\"Model_4 training curves\")"
      ]
    },
    {
      "cell_type": "markdown",
      "metadata": {
        "id": "T17vb9a0AAw_"
      },
      "source": [
        "Model_5"
      ]
    },
    {
      "cell_type": "code",
      "execution_count": null,
      "metadata": {
        "colab": {
          "base_uri": "https://localhost:8080/"
        },
        "id": "rkdBENCPABQ3",
        "outputId": "dd45c49a-7833-4433-acf9-58110d7063d2"
      },
      "outputs": [
        {
          "name": "stderr",
          "output_type": "stream",
          "text": [
            "WARNING:absl:`lr` is deprecated in Keras optimizer, please use `learning_rate` or use the legacy optimizer, e.g.,tf.keras.optimizers.legacy.Adam.\n"
          ]
        },
        {
          "name": "stdout",
          "output_type": "stream",
          "text": [
            "Epoch 1/10\n",
            "1222/1222 [==============================] - 8s 6ms/step - loss: 217.9671 - accuracy: 0.7058\n",
            "Epoch 2/10\n",
            "1222/1222 [==============================] - 7s 6ms/step - loss: 62.6633 - accuracy: 0.6830\n",
            "Epoch 3/10\n",
            "1222/1222 [==============================] - 8s 6ms/step - loss: 13.3621 - accuracy: 0.7191\n",
            "Epoch 4/10\n",
            "1222/1222 [==============================] - 7s 5ms/step - loss: 0.6012 - accuracy: 0.7626\n",
            "Epoch 5/10\n",
            "1222/1222 [==============================] - 8s 6ms/step - loss: 0.5535 - accuracy: 0.7595\n",
            "Epoch 6/10\n",
            "1222/1222 [==============================] - 7s 6ms/step - loss: 0.5517 - accuracy: 0.7595\n",
            "Epoch 7/10\n",
            "1222/1222 [==============================] - 8s 6ms/step - loss: 0.5517 - accuracy: 0.7595\n",
            "Epoch 8/10\n",
            "1222/1222 [==============================] - 7s 6ms/step - loss: 0.5517 - accuracy: 0.7595\n",
            "Epoch 9/10\n",
            "1222/1222 [==============================] - 7s 6ms/step - loss: 0.5517 - accuracy: 0.7595\n",
            "Epoch 10/10\n",
            "1222/1222 [==============================] - 8s 6ms/step - loss: 0.5517 - accuracy: 0.7595\n"
          ]
        }
      ],
      "source": [
        "tf.random.set_seed(42)\n",
        "\n",
        "# Create the model (same as model_3)\n",
        "model_5 = tf.keras.Sequential([\n",
        "  tf.keras.layers.Dense(1000, activation=\"relu\"), # hidden layer 1, using \"relu\" for activation (same as tf.keras.activations.relu)\n",
        "  tf.keras.layers.Dense(100, activation=\"relu\"),\n",
        "  tf.keras.layers.Dense(10, activation=\"relu\"),\n",
        "  tf.keras.layers.Dense(2, activation=\"softmax\") \n",
        "])\n",
        "\n",
        "# Compile the model\n",
        "model_5.compile(loss=tf.keras.losses.binary_crossentropy,\n",
        "                optimizer=tf.keras.optimizers.Adam(lr=0.01), \n",
        "                metrics=['accuracy'])\n",
        "\n",
        "# Fit the model\n",
        "history = model_5.fit(x_train, y_train, epochs=10)"
      ]
    },
    {
      "cell_type": "code",
      "execution_count": null,
      "metadata": {
        "colab": {
          "base_uri": "https://localhost:8080/"
        },
        "id": "DOgopvkHANsU",
        "outputId": "c7d7ce26-0504-4b55-fec1-acebe37b8e88"
      },
      "outputs": [
        {
          "name": "stdout",
          "output_type": "stream",
          "text": [
            "306/306 [==============================] - 1s 2ms/step - loss: 0.5447 - accuracy: 0.7656\n"
          ]
        },
        {
          "data": {
            "text/plain": [
              "[0.5447052717208862, 0.7655850052833557]"
            ]
          },
          "execution_count": 56,
          "metadata": {},
          "output_type": "execute_result"
        }
      ],
      "source": [
        "model_5.evaluate(x_test,y_test)"
      ]
    },
    {
      "cell_type": "code",
      "execution_count": null,
      "metadata": {
        "colab": {
          "base_uri": "https://localhost:8080/",
          "height": 469
        },
        "id": "Zf5Q5hrGBvrc",
        "outputId": "6f29e35d-0163-487c-dc30-bb74d43b4734"
      },
      "outputs": [
        {
          "data": {
            "text/plain": [
              "Text(0.5, 1.0, 'Model_5 training curves')"
            ]
          },
          "execution_count": 57,
          "metadata": {},
          "output_type": "execute_result"
        },
        {
          "data": {
            "image/png": "[encoded data removed]",
            "text/plain": [
              "<Figure size 640x480 with 1 Axes>"
            ]
          },
          "metadata": {},
          "output_type": "display_data"
        }
      ],
      "source": [
        "pd.DataFrame(history.history).plot()\n",
        "plt.title(\"Model_5 training curves\")"
      ]
    },
    {
      "cell_type": "markdown",
      "metadata": {
        "id": "4FzqhcmqAgig"
      },
      "source": [
        "Model_6"
      ]
    },
    {
      "cell_type": "code",
      "execution_count": null,
      "metadata": {
        "colab": {
          "base_uri": "https://localhost:8080/"
        },
        "id": "U6BB_NNRAhnf",
        "outputId": "f0200394-86ce-449e-dfde-7f559273dc74"
      },
      "outputs": [
        {
          "name": "stderr",
          "output_type": "stream",
          "text": [
            "WARNING:absl:`lr` is deprecated in Keras optimizer, please use `learning_rate` or use the legacy optimizer, e.g.,tf.keras.optimizers.legacy.Adam.\n"
          ]
        },
        {
          "name": "stdout",
          "output_type": "stream",
          "text": [
            "Epoch 1/10\n",
            "1222/1222 [==============================] - 4s 2ms/step - loss: 40.0033 - accuracy: 0.7473\n",
            "Epoch 2/10\n",
            "1222/1222 [==============================] - 2s 2ms/step - loss: 14.0498 - accuracy: 0.7595\n",
            "Epoch 3/10\n",
            "1222/1222 [==============================] - 2s 2ms/step - loss: 13.9598 - accuracy: 0.7737\n",
            "Epoch 4/10\n",
            "1222/1222 [==============================] - 2s 2ms/step - loss: 13.6538 - accuracy: 0.7694\n",
            "Epoch 5/10\n",
            "1222/1222 [==============================] - 3s 3ms/step - loss: 12.6478 - accuracy: 0.7609\n",
            "Epoch 6/10\n",
            "1222/1222 [==============================] - 2s 2ms/step - loss: 13.1784 - accuracy: 0.7635\n",
            "Epoch 7/10\n",
            "1222/1222 [==============================] - 2s 2ms/step - loss: 12.3734 - accuracy: 0.7595\n",
            "Epoch 8/10\n",
            "1222/1222 [==============================] - 2s 2ms/step - loss: 11.6845 - accuracy: 0.7708\n",
            "Epoch 9/10\n",
            "1222/1222 [==============================] - 2s 2ms/step - loss: 10.0059 - accuracy: 0.7691\n",
            "Epoch 10/10\n",
            "1222/1222 [==============================] - 3s 2ms/step - loss: 9.9187 - accuracy: 0.7702\n"
          ]
        }
      ],
      "source": [
        "tf.random.set_seed(42)\n",
        "\n",
        "\n",
        "model_6 = tf.keras.Sequential([\n",
        "  tf.keras.layers.Dense(10, activation=\"relu\"), \n",
        "  tf.keras.layers.Dense(10, activation=\"relu\"),\n",
        "  tf.keras.layers.Dense(2, activation=\"softmax\") \n",
        "])\n",
        "\n",
        "\n",
        "model_6.compile(loss=tf.keras.losses.binary_crossentropy,\n",
        "                optimizer=tf.keras.optimizers.Adam(lr=0.01),\n",
        "                metrics=['accuracy'])\n",
        "\n",
        "\n",
        "history = model_6.fit(x_train, y_train, epochs=10)"
      ]
    },
    {
      "cell_type": "code",
      "execution_count": null,
      "metadata": {
        "colab": {
          "base_uri": "https://localhost:8080/"
        },
        "id": "MMHi5yMKAn7M",
        "outputId": "cc64b830-5e7c-4315-fdaf-3a18e010ab57"
      },
      "outputs": [
        {
          "name": "stdout",
          "output_type": "stream",
          "text": [
            "306/306 [==============================] - 1s 2ms/step - loss: 7.3826 - accuracy: 0.8006\n"
          ]
        },
        {
          "data": {
            "text/plain": [
              "[7.382596492767334, 0.8005937337875366]"
            ]
          },
          "execution_count": 59,
          "metadata": {},
          "output_type": "execute_result"
        }
      ],
      "source": [
        "model_6.evaluate(x_test,y_test)"
      ]
    },
    {
      "cell_type": "code",
      "execution_count": null,
      "metadata": {
        "colab": {
          "base_uri": "https://localhost:8080/",
          "height": 469
        },
        "id": "oRNVkVuYByCf",
        "outputId": "1dcc993e-897b-4cef-e736-d41056939200"
      },
      "outputs": [
        {
          "data": {
            "text/plain": [
              "Text(0.5, 1.0, 'Model_6 training curves')"
            ]
          },
          "execution_count": 60,
          "metadata": {},
          "output_type": "execute_result"
        },
        {
          "data": {
            "image/png": "[encoded data removed]",
            "text/plain": [
              "<Figure size 640x480 with 1 Axes>"
            ]
          },
          "metadata": {},
          "output_type": "display_data"
        }
      ],
      "source": [
        "pd.DataFrame(history.history).plot()\n",
        "plt.title(\"Model_6 training curves\")"
      ]
    },
    {
      "cell_type": "markdown",
      "metadata": {
        "id": "9yfa6UAeBAHE"
      },
      "source": [
        "Model_7"
      ]
    },
    {
      "cell_type": "code",
      "execution_count": null,
      "metadata": {
        "colab": {
          "base_uri": "https://localhost:8080/"
        },
        "id": "5AUa01JXBCTw",
        "outputId": "b04f09c8-9c92-4432-9e45-39ad4ee6f3e7"
      },
      "outputs": [
        {
          "name": "stdout",
          "output_type": "stream",
          "text": [
            "Epoch 1/10\n",
            "1222/1222 [==============================] - 3s 2ms/step - loss: 13.9981 - accuracy: 0.7581\n",
            "Epoch 2/10\n",
            "1222/1222 [==============================] - 2s 2ms/step - loss: 0.5532 - accuracy: 0.7595\n",
            "Epoch 3/10\n",
            "1222/1222 [==============================] - 2s 2ms/step - loss: 0.5531 - accuracy: 0.7595\n",
            "Epoch 4/10\n",
            "1222/1222 [==============================] - 3s 2ms/step - loss: 0.5532 - accuracy: 0.7595\n",
            "Epoch 5/10\n",
            "1222/1222 [==============================] - 3s 2ms/step - loss: 0.5529 - accuracy: 0.7595\n",
            "Epoch 6/10\n",
            "1222/1222 [==============================] - 2s 2ms/step - loss: 0.5532 - accuracy: 0.7595\n",
            "Epoch 7/10\n",
            "1222/1222 [==============================] - 2s 2ms/step - loss: 0.5528 - accuracy: 0.7595\n",
            "Epoch 8/10\n",
            "1222/1222 [==============================] - 3s 2ms/step - loss: 0.5527 - accuracy: 0.7595\n",
            "Epoch 9/10\n",
            "1222/1222 [==============================] - 3s 3ms/step - loss: 0.5525 - accuracy: 0.7595\n",
            "Epoch 10/10\n",
            "1222/1222 [==============================] - 3s 2ms/step - loss: 0.5526 - accuracy: 0.7595\n"
          ]
        }
      ],
      "source": [
        "tf.random.set_seed(42)\n",
        "\n",
        "\n",
        "model_7 = tf.keras.Sequential([\n",
        "   tf.keras.layers.Dense(4, activation=\"relu\"), \n",
        "   tf.keras.layers.Dense(4, activation=\"relu\"),\n",
        "  tf.keras.layers.Dense(2, activation=\"softmax\")\n",
        "])  \n",
        "\n",
        "\n",
        "model_7.compile(loss=tf.keras.losses.binary_crossentropy,\n",
        "                optimizer=tf.keras.optimizers.Adam(learning_rate=0.05),\n",
        "                metrics=['accuracy'])\n",
        "\n",
        "\n",
        "history = model_7.fit(x_train, y_train, epochs=10)"
      ]
    },
    {
      "cell_type": "code",
      "execution_count": null,
      "metadata": {
        "colab": {
          "base_uri": "https://localhost:8080/"
        },
        "id": "49OEa8apBKjV",
        "outputId": "d431d3d9-eda7-4cc0-81c2-5fd76452d8c6"
      },
      "outputs": [
        {
          "name": "stdout",
          "output_type": "stream",
          "text": [
            "306/306 [==============================] - 1s 1ms/step - loss: 0.5446 - accuracy: 0.7656\n"
          ]
        },
        {
          "data": {
            "text/plain": [
              "[0.5445758700370789, 0.7655850052833557]"
            ]
          },
          "execution_count": 62,
          "metadata": {},
          "output_type": "execute_result"
        }
      ],
      "source": [
        "model_7.evaluate(x_test,y_test)"
      ]
    },
    {
      "cell_type": "code",
      "execution_count": null,
      "metadata": {
        "colab": {
          "base_uri": "https://localhost:8080/",
          "height": 469
        },
        "id": "5I68aWYVHmqg",
        "outputId": "3dcafd7d-ff94-4705-bd4c-0550d34125fd"
      },
      "outputs": [
        {
          "data": {
            "text/plain": [
              "Text(0.5, 1.0, 'Model_7 training curves')"
            ]
          },
          "execution_count": 63,
          "metadata": {},
          "output_type": "execute_result"
        },
        {
          "data": {
            "image/png": "[encoded data removed]",
            "text/plain": [
              "<Figure size 640x480 with 1 Axes>"
            ]
          },
          "metadata": {},
          "output_type": "display_data"
        }
      ],
      "source": [
        "pd.DataFrame(history.history).plot()\n",
        "plt.title(\"Model_7 training curves\")"
      ]
    },
    {
      "cell_type": "markdown",
      "metadata": {
        "id": "FPfTM2_8E74o"
      },
      "source": [
        "Model_8"
      ]
    },
    {
      "cell_type": "code",
      "execution_count": null,
      "metadata": {
        "colab": {
          "base_uri": "https://localhost:8080/"
        },
        "id": "gm8XOscbE-Dn",
        "outputId": "e9350042-0b4f-48fe-8318-b01b5f87e904"
      },
      "outputs": [
        {
          "name": "stderr",
          "output_type": "stream",
          "text": [
            "WARNING:absl:`lr` is deprecated in Keras optimizer, please use `learning_rate` or use the legacy optimizer, e.g.,tf.keras.optimizers.legacy.Adam.\n"
          ]
        },
        {
          "name": "stdout",
          "output_type": "stream",
          "text": [
            "Epoch 1/25\n",
            "1222/1222 [==============================] - 3s 2ms/step - loss: 102.0356 - accuracy: 0.7315\n",
            "Epoch 2/25\n",
            "1222/1222 [==============================] - 3s 2ms/step - loss: 78.4064 - accuracy: 0.7437\n",
            "Epoch 3/25\n",
            "1222/1222 [==============================] - 3s 3ms/step - loss: 69.5858 - accuracy: 0.7540\n",
            "Epoch 4/25\n",
            "1222/1222 [==============================] - 3s 2ms/step - loss: 51.8518 - accuracy: 0.7533\n",
            "Epoch 5/25\n",
            "1222/1222 [==============================] - 2s 2ms/step - loss: 49.0979 - accuracy: 0.7565\n",
            "Epoch 6/25\n",
            "1222/1222 [==============================] - 2s 2ms/step - loss: 41.4071 - accuracy: 0.7506\n",
            "Epoch 7/25\n",
            "1222/1222 [==============================] - 3s 2ms/step - loss: 39.4871 - accuracy: 0.7676\n",
            "Epoch 8/25\n",
            "1222/1222 [==============================] - 3s 3ms/step - loss: 33.3320 - accuracy: 0.7466\n",
            "Epoch 9/25\n",
            "1222/1222 [==============================] - 3s 2ms/step - loss: 28.6177 - accuracy: 0.7454\n",
            "Epoch 10/25\n",
            "1222/1222 [==============================] - 2s 2ms/step - loss: 22.4333 - accuracy: 0.7471\n",
            "Epoch 11/25\n",
            "1222/1222 [==============================] - 2s 2ms/step - loss: 21.0114 - accuracy: 0.7484\n",
            "Epoch 12/25\n",
            "1222/1222 [==============================] - 2s 2ms/step - loss: 16.2180 - accuracy: 0.7472\n",
            "Epoch 13/25\n",
            "1222/1222 [==============================] - 4s 3ms/step - loss: 12.4420 - accuracy: 0.7469\n",
            "Epoch 14/25\n",
            "1222/1222 [==============================] - 3s 2ms/step - loss: 0.5602 - accuracy: 0.7600\n",
            "Epoch 15/25\n",
            "1222/1222 [==============================] - 3s 2ms/step - loss: 0.5518 - accuracy: 0.7600\n",
            "Epoch 16/25\n",
            "1222/1222 [==============================] - 2s 2ms/step - loss: 0.5511 - accuracy: 0.7600\n",
            "Epoch 17/25\n",
            "1222/1222 [==============================] - 2s 2ms/step - loss: 0.5510 - accuracy: 0.7600\n",
            "Epoch 18/25\n",
            "1222/1222 [==============================] - 3s 3ms/step - loss: 0.5510 - accuracy: 0.7600\n",
            "Epoch 19/25\n",
            "1222/1222 [==============================] - 2s 2ms/step - loss: 0.5510 - accuracy: 0.7600\n",
            "Epoch 20/25\n",
            "1222/1222 [==============================] - 2s 2ms/step - loss: 0.5510 - accuracy: 0.7600\n",
            "Epoch 21/25\n",
            "1222/1222 [==============================] - 2s 2ms/step - loss: 0.5510 - accuracy: 0.7600\n",
            "Epoch 22/25\n",
            "1222/1222 [==============================] - 3s 2ms/step - loss: 0.5510 - accuracy: 0.7600\n",
            "Epoch 23/25\n",
            "1222/1222 [==============================] - 4s 3ms/step - loss: 0.5510 - accuracy: 0.7600\n",
            "Epoch 24/25\n",
            "1222/1222 [==============================] - 3s 2ms/step - loss: 0.5510 - accuracy: 0.7600\n",
            "Epoch 25/25\n",
            "1222/1222 [==============================] - 2s 2ms/step - loss: 0.5510 - accuracy: 0.7600\n"
          ]
        }
      ],
      "source": [
        "tf.random.set_seed(42)\n",
        "\n",
        "\n",
        "model_8 = tf.keras.Sequential([\n",
        "  tf.keras.layers.Dense(100, activation=\"relu\"),\n",
        "  tf.keras.layers.Dense(10, activation=\"relu\"),\n",
        "  tf.keras.layers.Dense(2, activation=\"softmax\") \n",
        "])\n",
        "\n",
        "\n",
        "model_8.compile(loss=tf.keras.losses.binary_crossentropy,\n",
        "                optimizer=tf.keras.optimizers.Adam(lr=0.001),\n",
        "                metrics=['accuracy'])\n",
        "\n",
        "\n",
        "history = model_8.fit(x_train, y_train, epochs=25)"
      ]
    },
    {
      "cell_type": "code",
      "execution_count": null,
      "metadata": {
        "colab": {
          "base_uri": "https://localhost:8080/"
        },
        "id": "H1DdpwrHFC3G",
        "outputId": "00c3541d-0924-4d98-c2bc-4ba70e7e3a23"
      },
      "outputs": [
        {
          "name": "stdout",
          "output_type": "stream",
          "text": [
            "306/306 [==============================] - 1s 2ms/step - loss: 0.5440 - accuracy: 0.7660\n"
          ]
        },
        {
          "data": {
            "text/plain": [
              "[0.5440365076065063, 0.7659944891929626]"
            ]
          },
          "execution_count": 65,
          "metadata": {},
          "output_type": "execute_result"
        }
      ],
      "source": [
        "model_8.evaluate(x_test,y_test)"
      ]
    },
    {
      "cell_type": "code",
      "execution_count": null,
      "metadata": {
        "colab": {
          "base_uri": "https://localhost:8080/",
          "height": 469
        },
        "id": "UaAzeZ__H2IB",
        "outputId": "fdf0654e-b333-4346-ac70-6d36fbb5b553"
      },
      "outputs": [
        {
          "data": {
            "text/plain": [
              "Text(0.5, 1.0, 'Model_8 training curves')"
            ]
          },
          "execution_count": 66,
          "metadata": {},
          "output_type": "execute_result"
        },
        {
          "data": {
            "image/png": "[encoded data removed]",
            "text/plain": [
              "<Figure size 640x480 with 1 Axes>"
            ]
          },
          "metadata": {},
          "output_type": "display_data"
        }
      ],
      "source": [
        "pd.DataFrame(history.history).plot()\n",
        "plt.title(\"Model_8 training curves\")"
      ]
    },
    {
      "cell_type": "markdown",
      "metadata": {
        "id": "z0CRVDB1Ii7-"
      },
      "source": [
        "Model_9"
      ]
    },
    {
      "cell_type": "code",
      "execution_count": null,
      "metadata": {
        "colab": {
          "base_uri": "https://localhost:8080/"
        },
        "id": "5nC_VbxIIbJC",
        "outputId": "43be89ef-3c97-4605-821a-c109c92e1324"
      },
      "outputs": [
        {
          "name": "stdout",
          "output_type": "stream",
          "text": [
            "Epoch 1/50\n",
            "1222/1222 [==============================] - 3s 2ms/step - loss: 57.1195 - accuracy: 0.6572 - lr: 1.0000e-04\n",
            "Epoch 2/50\n",
            "1222/1222 [==============================] - 2s 2ms/step - loss: 0.6981 - accuracy: 0.7591 - lr: 1.1220e-04\n",
            "Epoch 3/50\n",
            "1222/1222 [==============================] - 2s 2ms/step - loss: 0.6475 - accuracy: 0.7596 - lr: 1.2589e-04\n",
            "Epoch 4/50\n",
            "1222/1222 [==============================] - 2s 2ms/step - loss: 0.6153 - accuracy: 0.7597 - lr: 1.4125e-04\n",
            "Epoch 5/50\n",
            "1222/1222 [==============================] - 3s 3ms/step - loss: 0.5919 - accuracy: 0.7595 - lr: 1.5849e-04\n",
            "Epoch 6/50\n",
            "1222/1222 [==============================] - 2s 2ms/step - loss: 0.5748 - accuracy: 0.7595 - lr: 1.7783e-04\n",
            "Epoch 7/50\n",
            "1222/1222 [==============================] - 3s 3ms/step - loss: 0.5631 - accuracy: 0.7595 - lr: 1.9953e-04\n",
            "Epoch 8/50\n",
            "1222/1222 [==============================] - 2s 2ms/step - loss: 0.5563 - accuracy: 0.7595 - lr: 2.2387e-04\n",
            "Epoch 9/50\n",
            "1222/1222 [==============================] - 2s 2ms/step - loss: 0.5531 - accuracy: 0.7595 - lr: 2.5119e-04\n",
            "Epoch 10/50\n",
            "1222/1222 [==============================] - 3s 3ms/step - loss: 0.5520 - accuracy: 0.7595 - lr: 2.8184e-04\n",
            "Epoch 11/50\n",
            "1222/1222 [==============================] - 2s 2ms/step - loss: 0.5517 - accuracy: 0.7595 - lr: 3.1623e-04\n",
            "Epoch 12/50\n",
            "1222/1222 [==============================] - 2s 2ms/step - loss: 0.5517 - accuracy: 0.7595 - lr: 3.5481e-04\n",
            "Epoch 13/50\n",
            "1222/1222 [==============================] - 2s 2ms/step - loss: 0.5517 - accuracy: 0.7595 - lr: 3.9811e-04\n",
            "Epoch 14/50\n",
            "1222/1222 [==============================] - 2s 2ms/step - loss: 0.5517 - accuracy: 0.7595 - lr: 7.9433e-04\n",
            "Epoch 20/50\n",
            "1222/1222 [==============================] - 2s 2ms/step - loss: 0.5517 - accuracy: 0.7595 - lr: 8.9125e-04\n",
            "Epoch 21/50\n",
            "1222/1222 [==============================] - 3s 2ms/step - loss: 0.5517 - accuracy: 0.7595 - lr: 0.0010\n",
            "Epoch 22/50\n",
            "1222/1222 [==============================] - 2s 2ms/step - loss: 0.5516 - accuracy: 0.7595 - lr: 0.0011\n",
            "Epoch 23/50\n",
            "1222/1222 [==============================] - 2s 2ms/step - loss: 0.5517 - accuracy: 0.7595 - lr: 0.0013\n",
            "Epoch 24/50\n",
            "1222/1222 [==============================] - 2s 2ms/step - loss: 0.5517 - accuracy: 0.7595 - lr: 0.0014\n",
            "Epoch 25/50\n",
            "1222/1222 [==============================] - 2s 2ms/step - loss: 0.5517 - accuracy: 0.7595 - lr: 0.0016\n",
            "Epoch 26/50\n",
            "1222/1222 [==============================] - 3s 3ms/step - loss: 0.5517 - accuracy: 0.7595 - lr: 0.0018\n",
            "Epoch 27/50\n",
            "1222/1222 [==============================] - 2s 2ms/step - loss: 0.5517 - accuracy: 0.7595 - lr: 0.0020\n",
            "Epoch 28/50\n",
            "1222/1222 [==============================] - 2s 2ms/step - loss: 0.5517 - accuracy: 0.7595 - lr: 0.0022\n",
            "Epoch 29/50\n",
            "1222/1222 [==============================] - 2s 2ms/step - loss: 0.5517 - accuracy: 0.7595 - lr: 0.0025\n",
            "Epoch 30/50\n",
            "1222/1222 [==============================] - 2s 2ms/step - loss: 0.5518 - accuracy: 0.7595 - lr: 0.0028\n",
            "Epoch 31/50\n",
            "1222/1222 [==============================] - 3s 2ms/step - loss: 0.5517 - accuracy: 0.7595 - lr: 0.0032\n",
            "Epoch 32/50\n",
            "1222/1222 [==============================] - 3s 2ms/step - loss: 0.5518 - accuracy: 0.7595 - lr: 0.0035\n",
            "Epoch 33/50\n",
            "1222/1222 [==============================] - 2s 2ms/step - loss: 0.5518 - accuracy: 0.7595 - lr: 0.0040\n",
            "Epoch 34/50\n",
            "1222/1222 [==============================] - 2s 2ms/step - loss: 0.5518 - accuracy: 0.7595 - lr: 0.0045\n",
            "Epoch 35/50\n",
            "1222/1222 [==============================] - 2s 2ms/step - loss: 0.5517 - accuracy: 0.7595 - lr: 0.0050\n",
            "Epoch 36/50\n",
            "1222/1222 [==============================] - 3s 2ms/step - loss: 0.5518 - accuracy: 0.7595 - lr: 0.0056\n",
            "Epoch 37/50\n",
            "1222/1222 [==============================] - 3s 3ms/step - loss: 0.5518 - accuracy: 0.7595 - lr: 0.0063\n",
            "Epoch 38/50\n",
            "1222/1222 [==============================] - 2s 2ms/step - loss: 0.5518 - accuracy: 0.7595 - lr: 0.0071\n",
            "Epoch 39/50\n",
            "1222/1222 [==============================] - 2s 2ms/step - loss: 0.5518 - accuracy: 0.7595 - lr: 0.0079\n",
            "Epoch 40/50\n",
            "1222/1222 [==============================] - 2s 2ms/step - loss: 0.5517 - accuracy: 0.7595 - lr: 0.0089\n",
            "Epoch 41/50\n",
            "1222/1222 [==============================] - 3s 2ms/step - loss: 0.5519 - accuracy: 0.7595 - lr: 0.0100\n",
            "Epoch 42/50\n",
            "1222/1222 [==============================] - 3s 3ms/step - loss: 0.5518 - accuracy: 0.7595 - lr: 0.0112\n",
            "Epoch 43/50\n",
            "1222/1222 [==============================] - 2s 2ms/step - loss: 0.5519 - accuracy: 0.7595 - lr: 0.0126\n",
            "Epoch 44/50\n",
            "1222/1222 [==============================] - 2s 2ms/step - loss: 0.5520 - accuracy: 0.7595 - lr: 0.0141\n",
            "Epoch 45/50\n",
            "1222/1222 [==============================] - 2s 2ms/step - loss: 0.5521 - accuracy: 0.7595 - lr: 0.0158\n",
            "Epoch 46/50\n",
            "1222/1222 [==============================] - 3s 2ms/step - loss: 0.5520 - accuracy: 0.7595 - lr: 0.0178\n",
            "Epoch 47/50\n",
            "1222/1222 [==============================] - 3s 2ms/step - loss: 0.5520 - accuracy: 0.7595 - lr: 0.0200\n",
            "Epoch 48/50\n",
            "1222/1222 [==============================] - 2s 2ms/step - loss: 0.5521 - accuracy: 0.7595 - lr: 0.0224\n",
            "Epoch 49/50\n",
            "1222/1222 [==============================] - 2s 2ms/step - loss: 0.5522 - accuracy: 0.7595 - lr: 0.0251\n",
            "Epoch 50/50\n",
            "1222/1222 [==============================] - 2s 2ms/step - loss: 0.5523 - accuracy: 0.7595 - lr: 0.0282\n"
          ]
        }
      ],
      "source": [
        "tf.random.set_seed(42)\n",
        "\n",
        "\n",
        "model_9 = tf.keras.Sequential([\n",
        "  tf.keras.layers.Dense(4, activation=\"relu\"),\n",
        "  tf.keras.layers.Dense(4, activation=\"relu\"),\n",
        "  tf.keras.layers.Dense(2, activation=\"softmax\")\n",
        "])\n",
        "\n",
        "# Compile the model\n",
        "model_9.compile(loss=\"binary_crossentropy\", # we can use strings here too\n",
        "              optimizer=\"Adam\", # same as tf.keras.optimizers.Adam() with default settings\n",
        "              metrics=[\"accuracy\"]) \n",
        "\n",
        "# Create a learning rate scheduler callback\n",
        "lr_scheduler = tf.keras.callbacks.LearningRateScheduler(lambda epoch: 1e-4 * 10**(epoch/20)) # traverse a set of learning rate values starting from 1e-4, increasing by 10**(epoch/20) every epoch\n",
        "\n",
        "# Fit the model (passing the lr_scheduler callback)\n",
        "history = model_9.fit(x_train, \n",
        "                      y_train, \n",
        "                      epochs=50,\n",
        "                      callbacks=[lr_scheduler])"
      ]
    },
    {
      "cell_type": "code",
      "source": [
        "model_9.evaluate(x_test,y_test)"
      ],
      "metadata": {
        "colab": {
          "base_uri": "https://localhost:8080/"
        },
        "id": "yMdfWt3CcRHU",
        "outputId": "96f92fb2-88d6-4f3f-c6dc-c63845140d9f"
      },
      "execution_count": 90,
      "outputs": [
        {
          "output_type": "stream",
          "name": "stdout",
          "text": [
            "306/306 [==============================] - 0s 1ms/step - loss: 0.5450 - accuracy: 0.7656\n"
          ]
        },
        {
          "output_type": "execute_result",
          "data": {
            "text/plain": [
              "[0.5450489521026611, 0.7655850052833557]"
            ]
          },
          "metadata": {},
          "execution_count": 90
        }
      ]
    },
    {
      "cell_type": "code",
      "execution_count": 91,
      "metadata": {
        "colab": {
          "base_uri": "https://localhost:8080/",
          "height": 619
        },
        "id": "9r0rK4a7I6uy",
        "outputId": "a472acf5-bb9c-44b0-fc79-0ce6bcb04eae"
      },
      "outputs": [
        {
          "output_type": "display_data",
          "data": {
            "text/plain": [
              "<Figure size 1000x700 with 1 Axes>"
            ],
            "image/png": "[encoded data removed]"
          },
          "metadata": {}
        }
      ],
      "source": [
        "pd.DataFrame(history.history).plot(figsize=(10,7), xlabel=\"epochs\");"
      ]
    },
    {
      "cell_type": "markdown",
      "source": [
        "Best_Model(model_6)"
      ],
      "metadata": {
        "id": "zkLkuLujcZH0"
      }
    },
    {
      "cell_type": "code",
      "execution_count": 92,
      "metadata": {
        "colab": {
          "base_uri": "https://localhost:8080/"
        },
        "id": "yunvCjeTeiXt",
        "outputId": "f2b43e99-4196-4221-db11-69c51e808415"
      },
      "outputs": [
        {
          "output_type": "stream",
          "name": "stdout",
          "text": [
            "306/306 [==============================] - 1s 2ms/step - loss: 7.3826 - accuracy: 0.8006\n",
            "Model loss on test set: 7.382596492767334\n",
            "Model accuracy on test set: 80.06%\n"
          ]
        }
      ],
      "source": [
        "loss, accuracy = model_6.evaluate(x_test, y_test)\n",
        "print(f\"Model loss on test set: {loss}\")\n",
        "print(f\"Model accuracy on test set: {(accuracy*100):.2f}%\")"
      ]
    },
    {
      "cell_type": "code",
      "execution_count": 94,
      "metadata": {
        "colab": {
          "base_uri": "https://localhost:8080/"
        },
        "id": "m5l2-EpmfYFn",
        "outputId": "dbbdba62-7efa-4790-a882-713593de680f"
      },
      "outputs": [
        {
          "output_type": "execute_result",
          "data": {
            "text/plain": [
              "array([[9.9999827e-01, 1.6283201e-06],\n",
              "       [9.9999994e-01, 9.3971837e-22],\n",
              "       [0.0000000e+00, 9.9999994e-01],\n",
              "       [9.9999994e-01, 2.5753686e-35],\n",
              "       [9.9999994e-01, 0.0000000e+00],\n",
              "       [9.9999994e-01, 0.0000000e+00],\n",
              "       [9.9999994e-01, 7.9003490e-28],\n",
              "       [9.9999994e-01, 6.0635801e-13],\n",
              "       [9.9999994e-01, 0.0000000e+00],\n",
              "       [9.9999994e-01, 3.1661178e-18]], dtype=float32)"
            ]
          },
          "metadata": {},
          "execution_count": 94
        }
      ],
      "source": [
        "# View the first 10 predictions\n",
        "y_preds[:10]"
      ]
    },
    {
      "cell_type": "code",
      "execution_count": 95,
      "metadata": {
        "colab": {
          "base_uri": "https://localhost:8080/",
          "height": 363
        },
        "id": "A4SjrDaVfjmv",
        "outputId": "cd658140-1354-4090-b27d-eff8a287f4ea"
      },
      "outputs": [
        {
          "output_type": "execute_result",
          "data": {
            "text/plain": [
              "       <=50K  >50K\n",
              "7762       1     0\n",
              "23881      1     0\n",
              "30507      0     1\n",
              "28911      1     0\n",
              "19484      1     0\n",
              "43031      1     0\n",
              "28188      1     0\n",
              "12761      0     1\n",
              "40834      1     0\n",
              "27875      1     0"
            ],
            "text/html": [
              "\n",
              "  <div id=\"df-5b52e24d-677e-473d-99e0-b08c22fd0661\">\n",
              "    <div class=\"colab-df-container\">\n",
              "      <div>\n",
              "<style scoped>\n",
              "    .dataframe tbody tr th:only-of-type {\n",
              "        vertical-align: middle;\n",
              "    }\n",
              "\n",
              "    .dataframe tbody tr th {\n",
              "        vertical-align: top;\n",
              "    }\n",
              "\n",
              "    .dataframe thead th {\n",
              "        text-align: right;\n",
              "    }\n",
              "</style>\n",
              "<table border=\"1\" class=\"dataframe\">\n",
              "  <thead>\n",
              "    <tr style=\"text-align: right;\">\n",
              "      <th></th>\n",
              "      <th>&lt;=50K</th>\n",
              "      <th>&gt;50K</th>\n",
              "    </tr>\n",
              "  </thead>\n",
              "  <tbody>\n",
              "    <tr>\n",
              "      <th>7762</th>\n",
              "      <td>1</td>\n",
              "      <td>0</td>\n",
              "    </tr>\n",
              "    <tr>\n",
              "      <th>23881</th>\n",
              "      <td>1</td>\n",
              "      <td>0</td>\n",
              "    </tr>\n",
              "    <tr>\n",
              "      <th>30507</th>\n",
              "      <td>0</td>\n",
              "      <td>1</td>\n",
              "    </tr>\n",
              "    <tr>\n",
              "      <th>28911</th>\n",
              "      <td>1</td>\n",
              "      <td>0</td>\n",
              "    </tr>\n",
              "    <tr>\n",
              "      <th>19484</th>\n",
              "      <td>1</td>\n",
              "      <td>0</td>\n",
              "    </tr>\n",
              "    <tr>\n",
              "      <th>43031</th>\n",
              "      <td>1</td>\n",
              "      <td>0</td>\n",
              "    </tr>\n",
              "    <tr>\n",
              "      <th>28188</th>\n",
              "      <td>1</td>\n",
              "      <td>0</td>\n",
              "    </tr>\n",
              "    <tr>\n",
              "      <th>12761</th>\n",
              "      <td>0</td>\n",
              "      <td>1</td>\n",
              "    </tr>\n",
              "    <tr>\n",
              "      <th>40834</th>\n",
              "      <td>1</td>\n",
              "      <td>0</td>\n",
              "    </tr>\n",
              "    <tr>\n",
              "      <th>27875</th>\n",
              "      <td>1</td>\n",
              "      <td>0</td>\n",
              "    </tr>\n",
              "  </tbody>\n",
              "</table>\n",
              "</div>\n",
              "      <button class=\"colab-df-convert\" onclick=\"convertToInteractive('df-5b52e24d-677e-473d-99e0-b08c22fd0661')\"\n",
              "              title=\"Convert this dataframe to an interactive table.\"\n",
              "              style=\"display:none;\">\n",
              "        \n",
              "  <svg xmlns=\"http://www.w3.org/2000/svg\" height=\"24px\"viewBox=\"0 0 24 24\"\n",
              "       width=\"24px\">\n",
              "    <path d=\"M0 0h24v24H0V0z\" fill=\"none\"/>\n",
              "    <path d=\"M18.56 5.44l.94 2.06.94-2.06 2.06-.94-2.06-.94-.94-2.06-.94 2.06-2.06.94zm-11 1L8.5 8.5l.94-2.06 2.06-.94-2.06-.94L8.5 2.5l-.94 2.06-2.06.94zm10 10l.94 2.06.94-2.06 2.06-.94-2.06-.94-.94-2.06-.94 2.06-2.06.94z\"/><path d=\"M17.41 7.96l-1.37-1.37c-.4-.4-.92-.59-1.43-.59-.52 0-1.04.2-1.43.59L10.3 9.45l-7.72 7.72c-.78.78-.78 2.05 0 2.83L4 21.41c.39.39.9.59 1.41.59.51 0 1.02-.2 1.41-.59l7.78-7.78 2.81-2.81c.8-.78.8-2.07 0-2.86zM5.41 20L4 18.59l7.72-7.72 1.47 1.35L5.41 20z\"/>\n",
              "  </svg>\n",
              "      </button>\n",
              "      \n",
              "  <style>\n",
              "    .colab-df-container {\n",
              "      display:flex;\n",
              "      flex-wrap:wrap;\n",
              "      gap: 12px;\n",
              "    }\n",
              "\n",
              "    .colab-df-convert {\n",
              "      background-color: #E8F0FE;\n",
              "      border: none;\n",
              "      border-radius: 50%;\n",
              "      cursor: pointer;\n",
              "      display: none;\n",
              "      fill: #1967D2;\n",
              "      height: 32px;\n",
              "      padding: 0 0 0 0;\n",
              "      width: 32px;\n",
              "    }\n",
              "\n",
              "    .colab-df-convert:hover {\n",
              "      background-color: #E2EBFA;\n",
              "      box-shadow: 0px 1px 2px rgba(60, 64, 67, 0.3), 0px 1px 3px 1px rgba(60, 64, 67, 0.15);\n",
              "      fill: #174EA6;\n",
              "    }\n",
              "\n",
              "    [theme=dark] .colab-df-convert {\n",
              "      background-color: #3B4455;\n",
              "      fill: #D2E3FC;\n",
              "    }\n",
              "\n",
              "    [theme=dark] .colab-df-convert:hover {\n",
              "      background-color: #434B5C;\n",
              "      box-shadow: 0px 1px 3px 1px rgba(0, 0, 0, 0.15);\n",
              "      filter: drop-shadow(0px 1px 2px rgba(0, 0, 0, 0.3));\n",
              "      fill: #FFFFFF;\n",
              "    }\n",
              "  </style>\n",
              "\n",
              "      <script>\n",
              "        const buttonEl =\n",
              "          document.querySelector('#df-5b52e24d-677e-473d-99e0-b08c22fd0661 button.colab-df-convert');\n",
              "        buttonEl.style.display =\n",
              "          google.colab.kernel.accessAllowed ? 'block' : 'none';\n",
              "\n",
              "        async function convertToInteractive(key) {\n",
              "          const element = document.querySelector('#df-5b52e24d-677e-473d-99e0-b08c22fd0661');\n",
              "          const dataTable =\n",
              "            await google.colab.kernel.invokeFunction('convertToInteractive',\n",
              "                                                     [key], {});\n",
              "          if (!dataTable) return;\n",
              "\n",
              "          const docLinkHtml = 'Like what you see? Visit the ' +\n",
              "            '<a target=\"_blank\" href=https://colab.research.google.com/notebooks/data_table.ipynb>data table notebook</a>'\n",
              "            + ' to learn more about interactive tables.';\n",
              "          element.innerHTML = '';\n",
              "          dataTable['output_type'] = 'display_data';\n",
              "          await google.colab.output.renderOutput(dataTable, element);\n",
              "          const docLink = document.createElement('div');\n",
              "          docLink.innerHTML = docLinkHtml;\n",
              "          element.appendChild(docLink);\n",
              "        }\n",
              "      </script>\n",
              "    </div>\n",
              "  </div>\n",
              "  "
            ]
          },
          "metadata": {},
          "execution_count": 95
        }
      ],
      "source": [
        "# View the first 10 test labels\n",
        "y_test[:10]"
      ]
    }
  ],
  "metadata": {
    "colab": {
      "provenance": [],
      "authorship_tag": "ABX9TyMOc+tll4Rdw3up4cwyqBMH",
      "include_colab_link": true
    },
    "kernelspec": {
      "display_name": "Python 3",
      "name": "python3"
    },
    "language_info": {
      "name": "python"
    }
  },
  "nbformat": 4,
  "nbformat_minor": 0
}